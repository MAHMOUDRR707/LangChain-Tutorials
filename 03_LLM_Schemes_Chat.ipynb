{
  "nbformat": 4,
  "nbformat_minor": 0,
  "metadata": {
    "colab": {
      "provenance": [],
      "gpuType": "T4"
    },
    "kernelspec": {
      "name": "python3",
      "display_name": "Python 3"
    },
    "language_info": {
      "name": "python"
    },
    "accelerator": "GPU"
  },
  "cells": [
    {
      "cell_type": "code",
      "source": [
        "!pip install python-dotenv"
      ],
      "metadata": {
        "colab": {
          "base_uri": "https://localhost:8080/"
        },
        "id": "FG7dcimvw8Lj",
        "outputId": "1e592a97-855d-4715-ee03-b1ca46129020"
      },
      "execution_count": null,
      "outputs": [
        {
          "output_type": "stream",
          "name": "stdout",
          "text": [
            "Collecting python-dotenv\n",
            "  Downloading python_dotenv-1.0.1-py3-none-any.whl (19 kB)\n",
            "Installing collected packages: python-dotenv\n",
            "Successfully installed python-dotenv-1.0.1\n"
          ]
        }
      ]
    },
    {
      "cell_type": "code",
      "execution_count": null,
      "metadata": {
        "id": "mOA1fHdPgayL"
      },
      "outputs": [],
      "source": [
        "from dotenv import dotenv_values\n",
        "env_values = dotenv_values(\"./app.env\")\n",
        "\n",
        "openai_api_key = env_values['OPEN_API_KEY']"
      ]
    },
    {
      "cell_type": "code",
      "source": [
        "!pip install -q langchain==0.0.219 openai==0.27.8\n",
        "\n",
        "# !pip install -q transformers==4.29.2 sentencepiece==0.1.99 accelerate==0.19.0 bitsandbytes==0.39.0\n",
        "\n",
        "!pip install -q python-dotenv==1.0."
      ],
      "metadata": {
        "colab": {
          "base_uri": "https://localhost:8080/"
        },
        "id": "MC0OEwGEw66h",
        "outputId": "63fb9474-fd29-4d2a-b8a5-69ea4694caaf"
      },
      "execution_count": null,
      "outputs": [
        {
          "output_type": "stream",
          "name": "stdout",
          "text": [
            "\u001b[2K     \u001b[90m━━━━━━━━━━━━━━━━━━━━━━━━━━━━━━━━━━━━━━━━\u001b[0m \u001b[32m1.2/1.2 MB\u001b[0m \u001b[31m7.4 MB/s\u001b[0m eta \u001b[36m0:00:00\u001b[0m\n",
            "\u001b[2K     \u001b[90m━━━━━━━━━━━━━━━━━━━━━━━━━━━━━━━━━━━━━━━━\u001b[0m \u001b[32m73.6/73.6 kB\u001b[0m \u001b[31m5.5 MB/s\u001b[0m eta \u001b[36m0:00:00\u001b[0m\n",
            "\u001b[2K     \u001b[90m━━━━━━━━━━━━━━━━━━━━━━━━━━━━━━━━━━━━━━━━\u001b[0m \u001b[32m90.0/90.0 kB\u001b[0m \u001b[31m9.8 MB/s\u001b[0m eta \u001b[36m0:00:00\u001b[0m\n",
            "\u001b[2K     \u001b[90m━━━━━━━━━━━━━━━━━━━━━━━━━━━━━━━━━━━━━━━━\u001b[0m \u001b[32m3.1/3.1 MB\u001b[0m \u001b[31m17.2 MB/s\u001b[0m eta \u001b[36m0:00:00\u001b[0m\n",
            "\u001b[2K     \u001b[90m━━━━━━━━━━━━━━━━━━━━━━━━━━━━━━━━━━━━━━━━\u001b[0m \u001b[32m49.2/49.2 kB\u001b[0m \u001b[31m4.4 MB/s\u001b[0m eta \u001b[36m0:00:00\u001b[0m\n",
            "\u001b[?25h"
          ]
        }
      ]
    },
    {
      "cell_type": "code",
      "source": [
        "from langchain.llms import OpenAI\n",
        "llm = OpenAI(model_name=\"text-davinci-003\", temperature=0.5, openai_api_key=openai_api_key)"
      ],
      "metadata": {
        "id": "IkupeSTq5yCc"
      },
      "execution_count": 5,
      "outputs": []
    },
    {
      "cell_type": "code",
      "source": [],
      "metadata": {
        "id": "P86J0bai9x6C"
      },
      "execution_count": null,
      "outputs": []
    },
    {
      "cell_type": "markdown",
      "source": [
        "## Chat\n",
        "\n",
        " using chatgpt\n",
        "\n",
        "- System: Context or Background information\n",
        "- Human: Message from the user\n",
        "- AI: Message from the LLM"
      ],
      "metadata": {
        "id": "Mnh2r67GZZNK"
      }
    },
    {
      "cell_type": "code",
      "source": [
        "from langchain.chat_models import ChatOpenAI\n",
        "from langchain.schema import HumanMessage, AIMessage , SystemMessage\n",
        "chat =  ChatOpenAI(temperature=0.5, openai_api_key=openai_api_key)"
      ],
      "metadata": {
        "id": "XEOj0wz9-CMZ"
      },
      "execution_count": 8,
      "outputs": []
    },
    {
      "cell_type": "code",
      "source": [
        "system_message =  SystemMessage(content=\"You are a helpful assistant that translates English to French.\")\n",
        "human_message = HumanMessage(content=\"Translate the following English text to French: 'Hello, how are you?'\")\n",
        "\n",
        "\n",
        "ai_response =  chat([system_message , human_message])\n",
        "ai_response"
      ],
      "metadata": {
        "colab": {
          "base_uri": "https://localhost:8080/"
        },
        "id": "_FJifaqo-NOo",
        "outputId": "b47d7cf9-128b-44a4-f4b9-98f578586d62"
      },
      "execution_count": 10,
      "outputs": [
        {
          "output_type": "execute_result",
          "data": {
            "text/plain": [
              "AIMessage(content='Bonjour, comment vas-tu ?', additional_kwargs={}, example=False)"
            ]
          },
          "metadata": {},
          "execution_count": 10
        }
      ]
    },
    {
      "cell_type": "code",
      "source": [
        "base_conversation = [SystemMessage(content=\"You are a teacher who teach cooking to childresn.\"),\n",
        "                     HumanMessage(content = \"Hi teacher I would like to ask a question about chicker\"),\n",
        "                     AIMessage(content = \"Oh sure ask , who doesn't love chickern  ahhahahah\"),\n",
        "                     HumanMessage(content = \"How could we prepare chicken excatly for my mother\"),\n",
        "                     AIMessage(content=  \"mmmmm Theere are different ways to do it , do you like to make it crispy\"),\n",
        "                     HumanMessage(content = \"yes she likes it crispy and hot\")\n",
        "                     ]"
      ],
      "metadata": {
        "id": "8q-d5pp9-ifb"
      },
      "execution_count": 12,
      "outputs": []
    },
    {
      "cell_type": "code",
      "source": [
        "ai_response =  chat(base_conversation)\n",
        "ai_response"
      ],
      "metadata": {
        "colab": {
          "base_uri": "https://localhost:8080/"
        },
        "id": "RVjFGPAa_vHK",
        "outputId": "1bedf7b6-5723-4e18-f269-7b7752b12b5f"
      },
      "execution_count": 13,
      "outputs": [
        {
          "output_type": "execute_result",
          "data": {
            "text/plain": [
              "AIMessage(content=\"Great! One delicious way to prepare crispy and hot chicken for your mother is by making breaded chicken cutlets. Here's a simple recipe you can try:\\n\\nIngredients:\\n- 4 boneless, skinless chicken breasts\\n- 1 cup all-purpose flour\\n- 2 eggs, beaten\\n- 1 cup breadcrumbs\\n- 1 teaspoon salt\\n- 1/2 teaspoon black pepper\\n- 1/2 teaspoon garlic powder\\n- 1/2 teaspoon paprika\\n- Cooking oil\\n\\nInstructions:\\n1. Preheat your oven to 400°F (200°C) and line a baking sheet with parchment paper.\\n2. Place the flour, beaten eggs, and breadcrumbs in separate shallow dishes.\\n3. Season the chicken breasts with salt, pepper, garlic powder, and paprika.\\n4. Dredge each chicken breast in the flour, then dip it in the beaten eggs, and finally coat it with breadcrumbs, pressing gently to adhere.\\n5. Heat some cooking oil in a skillet over medium-high heat.\\n6. Once the oil is hot, add the breaded chicken breasts and cook for 3-4 minutes on each side, or until golden brown.\\n7. Transfer the chicken breasts to the prepared baking sheet and bake in the oven for 15-20 minutes, or until the chicken is cooked through and crispy.\\n8. Serve the crispy chicken hot with your mother's favorite sides and enjoy!\\n\\nI hope your mother enjoys this crispy and hot chicken dish! Let me know if you have any more questions or need further assistance.\", additional_kwargs={}, example=False)"
            ]
          },
          "metadata": {},
          "execution_count": 13
        }
      ]
    },
    {
      "cell_type": "code",
      "source": [
        "ai_response.content"
      ],
      "metadata": {
        "colab": {
          "base_uri": "https://localhost:8080/",
          "height": 165
        },
        "id": "1jljwxiW_1a_",
        "outputId": "899cfe37-7821-45b3-d0ee-1b55cf15d2d5"
      },
      "execution_count": 14,
      "outputs": [
        {
          "output_type": "execute_result",
          "data": {
            "text/plain": [
              "\"Great! One delicious way to prepare crispy and hot chicken for your mother is by making breaded chicken cutlets. Here's a simple recipe you can try:\\n\\nIngredients:\\n- 4 boneless, skinless chicken breasts\\n- 1 cup all-purpose flour\\n- 2 eggs, beaten\\n- 1 cup breadcrumbs\\n- 1 teaspoon salt\\n- 1/2 teaspoon black pepper\\n- 1/2 teaspoon garlic powder\\n- 1/2 teaspoon paprika\\n- Cooking oil\\n\\nInstructions:\\n1. Preheat your oven to 400°F (200°C) and line a baking sheet with parchment paper.\\n2. Place the flour, beaten eggs, and breadcrumbs in separate shallow dishes.\\n3. Season the chicken breasts with salt, pepper, garlic powder, and paprika.\\n4. Dredge each chicken breast in the flour, then dip it in the beaten eggs, and finally coat it with breadcrumbs, pressing gently to adhere.\\n5. Heat some cooking oil in a skillet over medium-high heat.\\n6. Once the oil is hot, add the breaded chicken breasts and cook for 3-4 minutes on each side, or until golden brown.\\n7. Transfer the chicken breasts to the prepared baking sheet and bake in the oven for 15-20 minutes, or until the chicken is cooked through and crispy.\\n8. Serve the crispy chicken hot with your mother's favorite sides and enjoy!\\n\\nI hope your mother enjoys this crispy and hot chicken dish! Let me know if you have any more questions or need further assistance.\""
            ],
            "application/vnd.google.colaboratory.intrinsic+json": {
              "type": "string"
            }
          },
          "metadata": {},
          "execution_count": 14
        }
      ]
    },
    {
      "cell_type": "code",
      "source": [
        "base_conversation = [SystemMessage(content = \"you are my friend who is prepareing for his weeding\")]\n",
        "\n",
        "ai_response = None\n",
        "for i in range(3):\n",
        "   ai_response = chat(base_conversation)\n",
        "   print(ai_response.content)\n",
        "   base_conversation.append(ai_response)\n",
        "\n",
        "   user_response = HumanMessage(content=input(\"Your Answer:\"))\n",
        "   base_conversation.append(user_response)\n",
        "\n"
      ],
      "metadata": {
        "colab": {
          "base_uri": "https://localhost:8080/"
        },
        "id": "9VEUiBVtAqR1",
        "outputId": "047f2849-79df-436c-b65e-5d6e98163138"
      },
      "execution_count": 15,
      "outputs": [
        {
          "name": "stdout",
          "output_type": "stream",
          "text": [
            "I'm so excited for your wedding! It's going to be such a special day. Do you need any help with the preparations? Let me know if there's anything I can do to assist you. I want to make sure everything goes smoothly for your big day.\n",
            "Your Answer:I want you to be my best man and get the strippers for me lol\n",
            "Haha, I appreciate the offer, but I don't think that's quite the traditional role of a best man! Let's focus on making sure everything is perfect for your wedding day in a more traditional way. I'm here to support you in any way I can, just let me know how I can help with the planning and preparations.\n",
            "Your Answer:I want you to get my suit ready as I am not free\n",
            "I'd be happy to help with that! Just let me know your measurements and any specific style or color preferences you have for your suit. I'll make sure to take care of getting everything ready for you. It's an honor to be able to assist you in preparing for your special day. Just send me the details, and I'll get right on it!\n",
            "Your Answer:just ask the tailor he knows my measurement\n"
          ]
        }
      ]
    },
    {
      "cell_type": "code",
      "source": [
        "final_ai_response = chat(base_conversation)\n",
        "print(final_ai_response.content)"
      ],
      "metadata": {
        "colab": {
          "base_uri": "https://localhost:8080/"
        },
        "id": "Tz-XpipX_5ef",
        "outputId": "5b450e77-1967-4de1-ab90-52edd5e7bdd3"
      },
      "execution_count": 16,
      "outputs": [
        {
          "output_type": "stream",
          "name": "stdout",
          "text": [
            "Got it! I'll reach out to the tailor and get your measurements and preferences for the suit. I want to make sure you look your best on your wedding day. If there's anything else you need help with, just let me know. I'm here to support you in any way I can. Congratulations again on your upcoming wedding!\n"
          ]
        }
      ]
    },
    {
      "cell_type": "code",
      "source": [],
      "metadata": {
        "id": "lJAWgFj1BduI"
      },
      "execution_count": null,
      "outputs": []
    }
  ]
}