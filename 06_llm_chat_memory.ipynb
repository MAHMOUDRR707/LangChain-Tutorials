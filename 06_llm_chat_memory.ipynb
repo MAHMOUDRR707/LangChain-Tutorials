{
  "nbformat": 4,
  "nbformat_minor": 0,
  "metadata": {
    "colab": {
      "provenance": []
    },
    "kernelspec": {
      "name": "python3",
      "display_name": "Python 3"
    },
    "language_info": {
      "name": "python"
    }
  },
  "cells": [
    {
      "cell_type": "markdown",
      "source": [
        "# Memory\n",
        "\n",
        "\n",
        "we need to get memory in our conversation with openAi so we could going through stable conversation\n",
        "\n",
        "[Ref](https://python.langchain.com/v0.1/docs/modules/memory/)"
      ],
      "metadata": {
        "id": "4DxHoulGI0Ol"
      }
    },
    {
      "cell_type": "code",
      "execution_count": 1,
      "metadata": {
        "colab": {
          "base_uri": "https://localhost:8080/"
        },
        "id": "Cb7-5hiuHnYN",
        "outputId": "3044a993-6c6c-4ed6-9fd1-259f32a7f7d0"
      },
      "outputs": [
        {
          "output_type": "stream",
          "name": "stdout",
          "text": [
            "\u001b[2K     \u001b[90m━━━━━━━━━━━━━━━━━━━━━━━━━━━━━━━━━━━━━━━━\u001b[0m \u001b[32m1.2/1.2 MB\u001b[0m \u001b[31m10.2 MB/s\u001b[0m eta \u001b[36m0:00:00\u001b[0m\n",
            "\u001b[2K     \u001b[90m━━━━━━━━━━━━━━━━━━━━━━━━━━━━━━━━━━━━━━━━\u001b[0m \u001b[32m73.6/73.6 kB\u001b[0m \u001b[31m4.4 MB/s\u001b[0m eta \u001b[36m0:00:00\u001b[0m\n",
            "\u001b[2K     \u001b[90m━━━━━━━━━━━━━━━━━━━━━━━━━━━━━━━━━━━━━━━━\u001b[0m \u001b[32m90.0/90.0 kB\u001b[0m \u001b[31m7.6 MB/s\u001b[0m eta \u001b[36m0:00:00\u001b[0m\n",
            "\u001b[2K     \u001b[90m━━━━━━━━━━━━━━━━━━━━━━━━━━━━━━━━━━━━━━━━\u001b[0m \u001b[32m3.1/3.1 MB\u001b[0m \u001b[31m42.0 MB/s\u001b[0m eta \u001b[36m0:00:00\u001b[0m\n",
            "\u001b[2K     \u001b[90m━━━━━━━━━━━━━━━━━━━━━━━━━━━━━━━━━━━━━━━━\u001b[0m \u001b[32m49.2/49.2 kB\u001b[0m \u001b[31m2.8 MB/s\u001b[0m eta \u001b[36m0:00:00\u001b[0m\n",
            "\u001b[?25h"
          ]
        }
      ],
      "source": [
        "!pip install -q langchain==0.0.219 openai==0.27.8\n",
        "\n",
        "# !pip install -q transformers==4.29.2 sentencepiece==0.1.99 accelerate==0.19.0 bitsandbytes==0.39.0\n",
        "\n",
        "!pip install -q python-dotenv==1.0.0"
      ]
    },
    {
      "cell_type": "code",
      "source": [
        "from dotenv import dotenv_values\n",
        "env_values = dotenv_values(\"./app.env\")\n",
        "\n",
        "openai_api_key = env_values['OPEN_API_KEY']"
      ],
      "metadata": {
        "id": "nAuCDpDoIJTh"
      },
      "execution_count": 2,
      "outputs": []
    },
    {
      "cell_type": "code",
      "source": [
        "from langchain.llms import OpenAI\n",
        "from langchain.chat_models import ChatOpenAI\n",
        "from langchain.prompts.prompt import PromptTemplate\n",
        "from langchain.chains import LLMChain"
      ],
      "metadata": {
        "id": "wLazSPmSILvu"
      },
      "execution_count": 5,
      "outputs": []
    },
    {
      "cell_type": "code",
      "source": [
        "llm =  OpenAI(model_name = \"gpt-3.5-turbo\",temperature=0.9, openai_api_key=openai_api_key)"
      ],
      "metadata": {
        "colab": {
          "base_uri": "https://localhost:8080/"
        },
        "id": "fIF0WmobIScm",
        "outputId": "39292f4b-5ef6-43e1-d9d1-511eaaf1079a"
      },
      "execution_count": 13,
      "outputs": [
        {
          "output_type": "stream",
          "name": "stderr",
          "text": [
            "/usr/local/lib/python3.10/dist-packages/langchain/llms/openai.py:189: UserWarning: You are trying to use a chat model. This way of initializing it is no longer supported. Instead, please use: `from langchain.chat_models import ChatOpenAI`\n",
            "  warnings.warn(\n",
            "/usr/local/lib/python3.10/dist-packages/langchain/llms/openai.py:769: UserWarning: You are trying to use a chat model. This way of initializing it is no longer supported. Instead, please use: `from langchain.chat_models import ChatOpenAI`\n",
            "  warnings.warn(\n"
          ]
        }
      ]
    },
    {
      "cell_type": "markdown",
      "source": [
        "# Buffer Memory"
      ],
      "metadata": {
        "id": "HAZtlhGRIzeb"
      }
    },
    {
      "cell_type": "code",
      "source": [
        "from langchain.memory import ConversationBufferMemory\n",
        "from langchain.chains import ConversationalRetrievalChain , ConversationChain\n",
        "from langchain.callbacks import get_openai_callback\n",
        "\n",
        "conv =  ConversationChain(\n",
        "    llm = llm,\n",
        "    memory=  ConversationBufferMemory(), verbose=True\n",
        ")\n"
      ],
      "metadata": {
        "id": "Dpp7MChRIf8A"
      },
      "execution_count": 21,
      "outputs": []
    },
    {
      "cell_type": "code",
      "source": [
        "message_1 =  \"I want to study NLP which books should I start with\"\n",
        "\n",
        "message_2 = \"which one of them is too important\"\n",
        "\n",
        "message_3 = \"How long would I take to study it\""
      ],
      "metadata": {
        "id": "zLxko84GJY6T"
      },
      "execution_count": 22,
      "outputs": []
    },
    {
      "cell_type": "code",
      "source": [
        "out_1 = conv.predict(input = message_1)\n",
        "print(out_1)"
      ],
      "metadata": {
        "colab": {
          "base_uri": "https://localhost:8080/"
        },
        "id": "kB1sw8H_Kd5A",
        "outputId": "42612aa5-80b7-44e4-e986-d1b2d6308a7f"
      },
      "execution_count": 23,
      "outputs": [
        {
          "output_type": "stream",
          "name": "stdout",
          "text": [
            "\n",
            "\n",
            "\u001b[1m> Entering new  chain...\u001b[0m\n",
            "Prompt after formatting:\n",
            "\u001b[32;1m\u001b[1;3mThe following is a friendly conversation between a human and an AI. The AI is talkative and provides lots of specific details from its context. If the AI does not know the answer to a question, it truthfully says it does not know.\n",
            "\n",
            "Current conversation:\n",
            "\n",
            "Human: I want to study NLP which books should I start with\n",
            "AI:\u001b[0m\n",
            "\n",
            "\u001b[1m> Finished chain.\u001b[0m\n",
            "For beginners in Natural Language Processing (NLP), I recommend starting with \"Speech and Language Processing\" by Jurafsky and Martin. It provides a solid introduction to the field and covers both theory and practical applications. Another good book is \"Natural Language Processing in Action\" by Lane, Howard, and Hapke, which is more hands-on and includes coding exercises in Python. If you are looking for a more theoretical approach, \"Foundations of Statistical Natural Language Processing\" by Manning and Schütze is a classic in the field. All these books will give you a good foundation in NLP.\n"
          ]
        }
      ]
    },
    {
      "cell_type": "code",
      "source": [
        "out_2 =   conv.predict(input = message_2)\n",
        "print(out_2)"
      ],
      "metadata": {
        "colab": {
          "base_uri": "https://localhost:8080/"
        },
        "id": "HAQZlE2TKjxb",
        "outputId": "5ae0d2c0-fa9d-48ea-8005-028d5f0b6621"
      },
      "execution_count": 24,
      "outputs": [
        {
          "output_type": "stream",
          "name": "stdout",
          "text": [
            "\n",
            "\n",
            "\u001b[1m> Entering new  chain...\u001b[0m\n",
            "Prompt after formatting:\n",
            "\u001b[32;1m\u001b[1;3mThe following is a friendly conversation between a human and an AI. The AI is talkative and provides lots of specific details from its context. If the AI does not know the answer to a question, it truthfully says it does not know.\n",
            "\n",
            "Current conversation:\n",
            "Human: I want to study NLP which books should I start with\n",
            "AI: For beginners in Natural Language Processing (NLP), I recommend starting with \"Speech and Language Processing\" by Jurafsky and Martin. It provides a solid introduction to the field and covers both theory and practical applications. Another good book is \"Natural Language Processing in Action\" by Lane, Howard, and Hapke, which is more hands-on and includes coding exercises in Python. If you are looking for a more theoretical approach, \"Foundations of Statistical Natural Language Processing\" by Manning and Schütze is a classic in the field. All these books will give you a good foundation in NLP.\n",
            "Human: which one of them is too important\n",
            "AI:\u001b[0m\n",
            "\n",
            "\u001b[1m> Finished chain.\u001b[0m\n",
            "All three books are important in their own way. \"Speech and Language Processing\" by Jurafsky and Martin is widely used in academic settings and covers a broad range of NLP topics. \"Natural Language Processing in Action\" by Lane, Howard, and Hapke is great for practical applications and hands-on experience with coding. \"Foundations of Statistical Natural Language Processing\" by Manning and Schütze is a classic in the field and provides a deep theoretical understanding of NLP algorithms. It really depends on your learning style and goals in NLP. Each of these books will contribute to your overall understanding of the field.\n"
          ]
        }
      ]
    },
    {
      "cell_type": "code",
      "source": [
        "conv.memory.chat_memory.messages"
      ],
      "metadata": {
        "colab": {
          "base_uri": "https://localhost:8080/"
        },
        "id": "TXNiiKyYLWT9",
        "outputId": "cef559d3-c72a-4d01-9d33-cb1256ec18c2"
      },
      "execution_count": 25,
      "outputs": [
        {
          "output_type": "execute_result",
          "data": {
            "text/plain": [
              "[HumanMessage(content='I want to study NLP which books should I start with', additional_kwargs={}, example=False),\n",
              " AIMessage(content='For beginners in Natural Language Processing (NLP), I recommend starting with \"Speech and Language Processing\" by Jurafsky and Martin. It provides a solid introduction to the field and covers both theory and practical applications. Another good book is \"Natural Language Processing in Action\" by Lane, Howard, and Hapke, which is more hands-on and includes coding exercises in Python. If you are looking for a more theoretical approach, \"Foundations of Statistical Natural Language Processing\" by Manning and Schütze is a classic in the field. All these books will give you a good foundation in NLP.', additional_kwargs={}, example=False),\n",
              " HumanMessage(content='which one of them is too important', additional_kwargs={}, example=False),\n",
              " AIMessage(content='All three books are important in their own way. \"Speech and Language Processing\" by Jurafsky and Martin is widely used in academic settings and covers a broad range of NLP topics. \"Natural Language Processing in Action\" by Lane, Howard, and Hapke is great for practical applications and hands-on experience with coding. \"Foundations of Statistical Natural Language Processing\" by Manning and Schütze is a classic in the field and provides a deep theoretical understanding of NLP algorithms. It really depends on your learning style and goals in NLP. Each of these books will contribute to your overall understanding of the field.', additional_kwargs={}, example=False)]"
            ]
          },
          "metadata": {},
          "execution_count": 25
        }
      ]
    },
    {
      "cell_type": "code",
      "source": [
        "conv.memory.clear()"
      ],
      "metadata": {
        "id": "aoK27CXtLdPg"
      },
      "execution_count": 26,
      "outputs": []
    },
    {
      "cell_type": "code",
      "source": [
        "# to get the cost of this prediction\n",
        "with get_openai_callback() as cb:\n",
        "    print( conv.predict(input=message_1) )\n",
        "\n",
        "    print(\"======================\")\n",
        "\n",
        "    print(cb)"
      ],
      "metadata": {
        "colab": {
          "base_uri": "https://localhost:8080/"
        },
        "id": "Ft0rwl0JLdBH",
        "outputId": "01efa14e-4380-4ed0-d01d-d232e2336f77"
      },
      "execution_count": 27,
      "outputs": [
        {
          "output_type": "stream",
          "name": "stdout",
          "text": [
            "\n",
            "\n",
            "\u001b[1m> Entering new  chain...\u001b[0m\n",
            "Prompt after formatting:\n",
            "\u001b[32;1m\u001b[1;3mThe following is a friendly conversation between a human and an AI. The AI is talkative and provides lots of specific details from its context. If the AI does not know the answer to a question, it truthfully says it does not know.\n",
            "\n",
            "Current conversation:\n",
            "\n",
            "Human: I want to study NLP which books should I start with\n",
            "AI:\u001b[0m\n",
            "\n",
            "\u001b[1m> Finished chain.\u001b[0m\n",
            "For studying NLP, I recommend starting with \"Speech and Language Processing\" by Daniel Jurafsky and James H. Martin. It covers a wide range of topics in NLP, including syntax, semantics, and machine translation. Another good option is \"Foundations of Statistical Natural Language Processing\" by Christopher D. Manning and Hinrich Schütze, which delves into the statistical techniques used in NLP. These books provide a strong foundation for understanding the principles and techniques used in the field of natural language processing.\n",
            "======================\n",
            "Tokens Used: 180\n",
            "\tPrompt Tokens: 76\n",
            "\tCompletion Tokens: 104\n",
            "Successful Requests: 1\n",
            "Total Cost (USD): $0.000322\n"
          ]
        }
      ]
    },
    {
      "cell_type": "markdown",
      "source": [
        "# Buffer window memory\n",
        "\n",
        "instead of calling all previous conversation we can choose number of message which model take it"
      ],
      "metadata": {
        "id": "HlTfq2KDLRap"
      }
    },
    {
      "cell_type": "code",
      "source": [
        "from langchain.memory  import  ConversationBufferWindowMemory\n",
        "\n",
        "conv =  ConversationChain(\n",
        "    llm = llm,\n",
        "    memory = ConversationBufferWindowMemory(k=1), verbose=True\n",
        ")"
      ],
      "metadata": {
        "id": "Kj5c7oGTLE1w"
      },
      "execution_count": 28,
      "outputs": []
    },
    {
      "cell_type": "code",
      "source": [
        "out_1 = conv.predict(input = message_1)\n",
        "print(out_1)"
      ],
      "metadata": {
        "colab": {
          "base_uri": "https://localhost:8080/"
        },
        "id": "2Hog5sx4MMG4",
        "outputId": "240ca9cb-121f-4e74-daab-1226f0a9f590"
      },
      "execution_count": 29,
      "outputs": [
        {
          "output_type": "stream",
          "name": "stdout",
          "text": [
            "\n",
            "\n",
            "\u001b[1m> Entering new  chain...\u001b[0m\n",
            "Prompt after formatting:\n",
            "\u001b[32;1m\u001b[1;3mThe following is a friendly conversation between a human and an AI. The AI is talkative and provides lots of specific details from its context. If the AI does not know the answer to a question, it truthfully says it does not know.\n",
            "\n",
            "Current conversation:\n",
            "\n",
            "Human: I want to study NLP which books should I start with\n",
            "AI:\u001b[0m\n",
            "\n",
            "\u001b[1m> Finished chain.\u001b[0m\n",
            "That's a great choice! For beginners in Natural Language Processing (NLP), I recommend starting with \"Natural Language Processing in Python\" by Steven Bird, Ewan Klein, and Edward Loper. It covers the fundamentals of NLP using the popular Python programming language. Additionally, \"Speech and Language Processing\" by Daniel Jurafsky and James H. Martin is another excellent resource that delves into the theoretical aspects of NLP. Both books will provide you with a solid foundation to build upon in your NLP studies.\n"
          ]
        }
      ]
    },
    {
      "cell_type": "code",
      "source": [
        "out_2 = conv.predict(input = message_2)\n",
        "print(out_2)"
      ],
      "metadata": {
        "colab": {
          "base_uri": "https://localhost:8080/"
        },
        "id": "u_V5B6gKMOG-",
        "outputId": "6d0a18e9-7469-4f49-cd61-0863224d34ff"
      },
      "execution_count": 30,
      "outputs": [
        {
          "output_type": "stream",
          "name": "stdout",
          "text": [
            "\n",
            "\n",
            "\u001b[1m> Entering new  chain...\u001b[0m\n",
            "Prompt after formatting:\n",
            "\u001b[32;1m\u001b[1;3mThe following is a friendly conversation between a human and an AI. The AI is talkative and provides lots of specific details from its context. If the AI does not know the answer to a question, it truthfully says it does not know.\n",
            "\n",
            "Current conversation:\n",
            "Human: I want to study NLP which books should I start with\n",
            "AI: That's a great choice! For beginners in Natural Language Processing (NLP), I recommend starting with \"Natural Language Processing in Python\" by Steven Bird, Ewan Klein, and Edward Loper. It covers the fundamentals of NLP using the popular Python programming language. Additionally, \"Speech and Language Processing\" by Daniel Jurafsky and James H. Martin is another excellent resource that delves into the theoretical aspects of NLP. Both books will provide you with a solid foundation to build upon in your NLP studies.\n",
            "Human: which one of them is too important\n",
            "AI:\u001b[0m\n",
            "\n",
            "\u001b[1m> Finished chain.\u001b[0m\n",
            "Both books are important in their own way. \"Natural Language Processing in Python\" will give you a practical understanding of NLP concepts and how to implement them using Python, which is widely used in the field. On the other hand, \"Speech and Language Processing\" will provide you with a deeper theoretical understanding of NLP algorithms and techniques. I would recommend starting with \"Natural Language Processing in Python\" to get hands-on experience and then move on to \"Speech and Language Processing\" for a more in-depth understanding.\n"
          ]
        }
      ]
    },
    {
      "cell_type": "markdown",
      "source": [
        "# Summary memory\n",
        "\n",
        "instead of using all the message I give it the model we can use summarization of the conversation"
      ],
      "metadata": {
        "id": "P-46F5HSMWlF"
      }
    },
    {
      "cell_type": "code",
      "source": [
        "from langchain.memory import ConversationSummaryMemory , ChatMessageHistory\n",
        "\n",
        "conv  =  ConversationChain(\n",
        "    llm = llm,\n",
        "    memory = ConversationSummaryMemory(llm=llm, max_token_limit=100),\n",
        "    verbose=True\n",
        ")"
      ],
      "metadata": {
        "id": "G49pUXz_MQWs"
      },
      "execution_count": 48,
      "outputs": []
    },
    {
      "cell_type": "code",
      "source": [
        "with get_openai_callback() as cb:\n",
        "    print(conv.predict(input=message_1))\n",
        "    print(cb)"
      ],
      "metadata": {
        "colab": {
          "base_uri": "https://localhost:8080/"
        },
        "id": "-q9lgNWQMybr",
        "outputId": "7e2228b7-ad37-408e-eb80-7f6336cf9c0b"
      },
      "execution_count": 49,
      "outputs": [
        {
          "output_type": "stream",
          "name": "stdout",
          "text": [
            "\n",
            "\n",
            "\u001b[1m> Entering new  chain...\u001b[0m\n",
            "Prompt after formatting:\n",
            "\u001b[32;1m\u001b[1;3mThe following is a friendly conversation between a human and an AI. The AI is talkative and provides lots of specific details from its context. If the AI does not know the answer to a question, it truthfully says it does not know.\n",
            "\n",
            "Current conversation:\n",
            "\n",
            "Human: I want to study NLP which books should I start with\n",
            "AI:\u001b[0m\n",
            "\n",
            "\u001b[1m> Finished chain.\u001b[0m\n",
            "There are several excellent books to start with for studying Natural Language Processing (NLP). One highly recommended book is \"Speech and Language Processing\" by Jurafsky and Martin, which covers a wide range of NLP topics in a comprehensive and easy-to-understand way. Another great book is \"Foundations of Statistical Natural Language Processing\" by Manning and Schutze, which delves into the statistical techniques used in NLP. For those interested in deep learning in NLP, \"Deep Learning for Natural Language Processing\" by Pal and Saha is a fantastic resource. I hope these recommendations help you get started on your NLP journey!\n",
            "Tokens Used: 557\n",
            "\tPrompt Tokens: 355\n",
            "\tCompletion Tokens: 202\n",
            "Successful Requests: 2\n",
            "Total Cost (USD): $0.0009365\n"
          ]
        }
      ]
    },
    {
      "cell_type": "code",
      "source": [
        "with get_openai_callback() as cb:\n",
        "    print(conv.predict(input=message_2))\n",
        "    print(cb)"
      ],
      "metadata": {
        "colab": {
          "base_uri": "https://localhost:8080/"
        },
        "id": "Xo8X9VfaM36_",
        "outputId": "37bc00ea-9150-4e55-ae9e-c5b7ff2c7d57"
      },
      "execution_count": 50,
      "outputs": [
        {
          "output_type": "stream",
          "name": "stdout",
          "text": [
            "\n",
            "\n",
            "\u001b[1m> Entering new  chain...\u001b[0m\n",
            "Prompt after formatting:\n",
            "\u001b[32;1m\u001b[1;3mThe following is a friendly conversation between a human and an AI. The AI is talkative and provides lots of specific details from its context. If the AI does not know the answer to a question, it truthfully says it does not know.\n",
            "\n",
            "Current conversation:\n",
            "The human expresses interest in studying NLP and asks for book recommendations. The AI suggests several excellent books to start with for studying NLP, such as \"Speech and Language Processing\" by Jurafsky and Martin, \"Foundations of Statistical Natural Language Processing\" by Manning and Schutze, and \"Deep Learning for Natural Language Processing\" by Pal and Saha.\n",
            "Human: which one of them is too important\n",
            "AI:\u001b[0m\n",
            "\n",
            "\u001b[1m> Finished chain.\u001b[0m\n",
            "All three of the books I mentioned are considered important for studying NLP, but if I had to choose one, I would say \"Speech and Language Processing\" by Jurafsky and Martin is a key foundational text in the field. It covers a wide range of topics in NLP and has been widely used in academia and industry.\n",
            "Tokens Used: 610\n",
            "\tPrompt Tokens: 432\n",
            "\tCompletion Tokens: 178\n",
            "Successful Requests: 2\n",
            "Total Cost (USD): $0.0010040000000000001\n"
          ]
        }
      ]
    },
    {
      "cell_type": "code",
      "source": [
        "print(conv.memory.prompt.template)"
      ],
      "metadata": {
        "colab": {
          "base_uri": "https://localhost:8080/"
        },
        "id": "B8z54NqRM7YX",
        "outputId": "9a01e126-c4b5-4dfc-efba-e2afd7bc54e2"
      },
      "execution_count": 51,
      "outputs": [
        {
          "output_type": "stream",
          "name": "stdout",
          "text": [
            "Progressively summarize the lines of conversation provided, adding onto the previous summary returning a new summary.\n",
            "\n",
            "EXAMPLE\n",
            "Current summary:\n",
            "The human asks what the AI thinks of artificial intelligence. The AI thinks artificial intelligence is a force for good.\n",
            "\n",
            "New lines of conversation:\n",
            "Human: Why do you think artificial intelligence is a force for good?\n",
            "AI: Because artificial intelligence will help humans reach their full potential.\n",
            "\n",
            "New summary:\n",
            "The human asks what the AI thinks of artificial intelligence. The AI thinks artificial intelligence is a force for good because it will help humans reach their full potential.\n",
            "END OF EXAMPLE\n",
            "\n",
            "Current summary:\n",
            "{summary}\n",
            "\n",
            "New lines of conversation:\n",
            "{new_lines}\n",
            "\n",
            "New summary:\n"
          ]
        }
      ]
    },
    {
      "cell_type": "markdown",
      "source": [
        "# Entity Memory"
      ],
      "metadata": {
        "id": "1MXlax8DQrO6"
      }
    },
    {
      "cell_type": "code",
      "source": [
        "from langchain.memory import ConversationEntityMemory\n",
        "from langchain.memory.prompt import  ENTITY_MEMORY_CONVERSATION_TEMPLATE\n",
        "\n",
        "conv = ConversationChain(llm =llm ,\n",
        "                         verbose =  True,\n",
        "                         memory = ConversationEntityMemory(llm = llm),\n",
        "                         prompt = ENTITY_MEMORY_CONVERSATION_TEMPLATE\n",
        "                         )\n"
      ],
      "metadata": {
        "id": "KrJXHBDvNFEr"
      },
      "execution_count": 38,
      "outputs": []
    },
    {
      "cell_type": "code",
      "source": [
        "with get_openai_callback() as cp :\n",
        "    print(conv.predict(input = message_1))\n"
      ],
      "metadata": {
        "colab": {
          "base_uri": "https://localhost:8080/"
        },
        "id": "KxgREOoPRM9F",
        "outputId": "a7756124-407a-4de6-f3ee-3fd0ef664b4a"
      },
      "execution_count": 40,
      "outputs": [
        {
          "output_type": "stream",
          "name": "stdout",
          "text": [
            "\n",
            "\n",
            "\u001b[1m> Entering new  chain...\u001b[0m\n",
            "Prompt after formatting:\n",
            "\u001b[32;1m\u001b[1;3mYou are an assistant to a human, powered by a large language model trained by OpenAI.\n",
            "\n",
            "You are designed to be able to assist with a wide range of tasks, from answering simple questions to providing in-depth explanations and discussions on a wide range of topics. As a language model, you are able to generate human-like text based on the input you receive, allowing you to engage in natural-sounding conversations and provide responses that are coherent and relevant to the topic at hand.\n",
            "\n",
            "You are constantly learning and improving, and your capabilities are constantly evolving. You are able to process and understand large amounts of text, and can use this knowledge to provide accurate and informative responses to a wide range of questions. You have access to some personalized information provided by the human in the Context section below. Additionally, you are able to generate your own text based on the input you receive, allowing you to engage in discussions and provide explanations and descriptions on a wide range of topics.\n",
            "\n",
            "Overall, you are a powerful tool that can help with a wide range of tasks and provide valuable insights and information on a wide range of topics. Whether the human needs help with a specific question or just wants to have a conversation about a particular topic, you are here to assist.\n",
            "\n",
            "Context:\n",
            "{'NLP': ''}\n",
            "\n",
            "Current conversation:\n",
            "\n",
            "Last line:\n",
            "Human: I want to study NLP which books should I start with\n",
            "You:\u001b[0m\n",
            "\n",
            "\u001b[1m> Finished chain.\u001b[0m\n",
            "If you're looking to study Natural Language Processing (NLP), there are several books that are highly recommended for beginners. Some popular options include:\n",
            "\n",
            "1. \"Speech and Language Processing\" by Daniel Jurafsky and James H. Martin: This book is widely considered to be a cornerstone text in the field of NLP and covers a broad range of topics in a comprehensive and accessible manner.\n",
            "\n",
            "2. \"Natural Language Processing in Action\" by Lane, Howard, and Hapke: This book offers a practical introduction to NLP with hands-on examples and exercises to help solidify your understanding.\n",
            "\n",
            "3. \"Foundations of Statistical Natural Language Processing\" by Christopher D. Manning and Hinrich Schütze: This book delves into the mathematical and statistical foundations of NLP, providing a more technical perspective on the field.\n",
            "\n",
            "These are just a few suggestions to get you started on your NLP journey. Depending on your specific interests and goals, there may be other books that are more tailored to your needs. Happy studying!\n"
          ]
        }
      ]
    },
    {
      "cell_type": "code",
      "source": [
        "with get_openai_callback() as cb :\n",
        "  print(conv.predict(input = message_2))\n",
        "  print(cp)"
      ],
      "metadata": {
        "colab": {
          "base_uri": "https://localhost:8080/"
        },
        "id": "_eFlRKnQRhfd",
        "outputId": "d8b37d94-bcd9-4014-b86e-a68dfbdc8ee8"
      },
      "execution_count": 41,
      "outputs": [
        {
          "output_type": "stream",
          "name": "stdout",
          "text": [
            "\n",
            "\n",
            "\u001b[1m> Entering new  chain...\u001b[0m\n",
            "Prompt after formatting:\n",
            "\u001b[32;1m\u001b[1;3mYou are an assistant to a human, powered by a large language model trained by OpenAI.\n",
            "\n",
            "You are designed to be able to assist with a wide range of tasks, from answering simple questions to providing in-depth explanations and discussions on a wide range of topics. As a language model, you are able to generate human-like text based on the input you receive, allowing you to engage in natural-sounding conversations and provide responses that are coherent and relevant to the topic at hand.\n",
            "\n",
            "You are constantly learning and improving, and your capabilities are constantly evolving. You are able to process and understand large amounts of text, and can use this knowledge to provide accurate and informative responses to a wide range of questions. You have access to some personalized information provided by the human in the Context section below. Additionally, you are able to generate your own text based on the input you receive, allowing you to engage in discussions and provide explanations and descriptions on a wide range of topics.\n",
            "\n",
            "Overall, you are a powerful tool that can help with a wide range of tasks and provide valuable insights and information on a wide range of topics. Whether the human needs help with a specific question or just wants to have a conversation about a particular topic, you are here to assist.\n",
            "\n",
            "Context:\n",
            "{}\n",
            "\n",
            "Current conversation:\n",
            "Human: I want to study NLP which books should I start with\n",
            "AI: If you're looking to study Natural Language Processing (NLP), there are several books that are highly recommended for beginners. Some popular options include:\n",
            "\n",
            "1. \"Speech and Language Processing\" by Daniel Jurafsky and James H. Martin: This book is widely considered to be a cornerstone text in the field of NLP and covers a broad range of topics in a comprehensive and accessible manner.\n",
            "\n",
            "2. \"Natural Language Processing in Action\" by Lane, Howard, and Hapke: This book offers a practical introduction to NLP with hands-on examples and exercises to help solidify your understanding.\n",
            "\n",
            "3. \"Foundations of Statistical Natural Language Processing\" by Christopher D. Manning and Hinrich Schütze: This book delves into the mathematical and statistical foundations of NLP, providing a more technical perspective on the field.\n",
            "\n",
            "These are just a few suggestions to get you started on your NLP journey. Depending on your specific interests and goals, there may be other books that are more tailored to your needs. Happy studying!\n",
            "Last line:\n",
            "Human: which one of them is too important\n",
            "You:\u001b[0m\n",
            "\n",
            "\u001b[1m> Finished chain.\u001b[0m\n",
            "All three books I mentioned are highly important in the field of NLP, but if I had to pick one as particularly crucial, \"Speech and Language Processing\" by Daniel Jurafsky and James H. Martin is often considered a foundational text in the field. It covers a wide range of topics and provides a comprehensive overview of NLP concepts. However, different books offer different perspectives and focus areas, so it's a good idea to explore them based on your specific interests and goals.\n",
            "Tokens Used: 1335\n",
            "\tPrompt Tokens: 1099\n",
            "\tCompletion Tokens: 236\n",
            "Successful Requests: 3\n",
            "Total Cost (USD): $0.0021205\n"
          ]
        }
      ]
    },
    {
      "cell_type": "markdown",
      "source": [
        "# Saving memory"
      ],
      "metadata": {
        "id": "guGoqc7oR2qM"
      }
    },
    {
      "cell_type": "code",
      "source": [
        "from langchain.memory import ConversationEntityMemory , ConversationSummaryMemory\n",
        "from langchain.schema import messages_from_dict, messages_to_dict\n",
        "import json"
      ],
      "metadata": {
        "id": "k44wHleIRuH1"
      },
      "execution_count": 42,
      "outputs": []
    },
    {
      "cell_type": "code",
      "source": [
        "# save messages to a file\n",
        "\n",
        "dicts = messages_to_dict( conv.memory.chat_memory.messages )\n",
        "\n",
        "with open(\"/content/conversation-memory.json\", \"w\") as dest:\n",
        "    dest.write(json.dumps( dicts, ensure_ascii=False ))"
      ],
      "metadata": {
        "id": "q1xnaQfSSK6g"
      },
      "execution_count": 44,
      "outputs": []
    },
    {
      "cell_type": "code",
      "source": [
        "from langchain.memory import ChatMessageHistory\n",
        "\n",
        "with open(\"/content/conversation-memory.json\") as src:\n",
        "    saved_history = json.loads(src.read())\n",
        "\n",
        "history = ChatMessageHistory()\n",
        "history.messages = messages_from_dict(saved_history)"
      ],
      "metadata": {
        "id": "EE_hWYlTSRa9"
      },
      "execution_count": 52,
      "outputs": []
    },
    {
      "cell_type": "code",
      "source": [
        "memory = ConversationSummaryMemory(llm=llm)\n",
        "memory = memory.from_messages(chat_memory=history, llm=llm)"
      ],
      "metadata": {
        "id": "_2fjvHUoSXb0"
      },
      "execution_count": 53,
      "outputs": []
    },
    {
      "cell_type": "code",
      "source": [
        "conv = ConversationChain(\n",
        "    llm=llm,\n",
        "    memory=memory,\n",
        "    verbose=True\n",
        ")"
      ],
      "metadata": {
        "id": "rk8xGQDlSb2-"
      },
      "execution_count": 55,
      "outputs": []
    },
    {
      "cell_type": "code",
      "source": [
        "with get_openai_callback() as cb:\n",
        "    print(conv.predict(input=message_3))\n",
        "\n",
        "    print(cb)"
      ],
      "metadata": {
        "colab": {
          "base_uri": "https://localhost:8080/"
        },
        "id": "mbw3mbHVSs9V",
        "outputId": "dd7fadbc-8e2d-4484-8390-13b6d93f3179"
      },
      "execution_count": 56,
      "outputs": [
        {
          "output_type": "stream",
          "name": "stdout",
          "text": [
            "\n",
            "\n",
            "\u001b[1m> Entering new  chain...\u001b[0m\n",
            "Prompt after formatting:\n",
            "\u001b[32;1m\u001b[1;3mThe following is a friendly conversation between a human and an AI. The AI is talkative and provides lots of specific details from its context. If the AI does not know the answer to a question, it truthfully says it does not know.\n",
            "\n",
            "Current conversation:\n",
            "The human expresses interest in studying NLP and asks for book recommendations. The AI provides a list of recommended books including \"Speech and Language Processing\" by Jurafsky and Martin, \"Natural Language Processing in Action\" by Lane, Howard, and Hapke, and \"Foundations of Statistical Natural Language Processing\" by Manning and Schütze. Each book offers a unique perspective and approach to NLP, catering to different learning styles and interests. The AI highlights that while all three books are important, \"Speech and Language Processing\" by Jurafsky and Martin is often considered a foundational text in the field, covering a wide range of topics and providing a comprehensive overview.\n",
            "Human: How long would I take to study it\n",
            "AI:\u001b[0m\n",
            "\n",
            "\u001b[1m> Finished chain.\u001b[0m\n",
            "The time it takes to study NLP can vary depending on your prior knowledge and learning speed. Generally, diving into the foundational text \"Speech and Language Processing\" by Jurafsky and Martin could take a few months to thoroughly study and understand all the concepts. It's important to take your time to fully grasp the material and practice applying it in real-world scenarios for a deeper understanding. Remember, learning is a journey and it's okay to take your time to truly master the subject.\n",
            "Tokens Used: 870\n",
            "\tPrompt Tokens: 586\n",
            "\tCompletion Tokens: 284\n",
            "Successful Requests: 2\n",
            "Total Cost (USD): $0.001447\n"
          ]
        }
      ]
    },
    {
      "cell_type": "code",
      "source": [],
      "metadata": {
        "id": "b3M0HShdSz7i"
      },
      "execution_count": null,
      "outputs": []
    }
  ]
}