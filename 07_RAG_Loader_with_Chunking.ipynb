{
  "nbformat": 4,
  "nbformat_minor": 0,
  "metadata": {
    "colab": {
      "provenance": []
    },
    "kernelspec": {
      "name": "python3",
      "display_name": "Python 3"
    },
    "language_info": {
      "name": "python"
    }
  },
  "cells": [
    {
      "cell_type": "code",
      "execution_count": 1,
      "metadata": {
        "colab": {
          "base_uri": "https://localhost:8080/"
        },
        "id": "9zZeKWO7CwOx",
        "outputId": "445f266e-ce23-49a7-d336-c34a659af92b"
      },
      "outputs": [
        {
          "output_type": "stream",
          "name": "stdout",
          "text": [
            "\u001b[2K     \u001b[90m━━━━━━━━━━━━━━━━━━━━━━━━━━━━━━━━━━━━━━━━\u001b[0m \u001b[32m1.2/1.2 MB\u001b[0m \u001b[31m11.7 MB/s\u001b[0m eta \u001b[36m0:00:00\u001b[0m\n",
            "\u001b[2K     \u001b[90m━━━━━━━━━━━━━━━━━━━━━━━━━━━━━━━━━━━━━━━━\u001b[0m \u001b[32m73.6/73.6 kB\u001b[0m \u001b[31m5.1 MB/s\u001b[0m eta \u001b[36m0:00:00\u001b[0m\n",
            "\u001b[2K     \u001b[90m━━━━━━━━━━━━━━━━━━━━━━━━━━━━━━━━━━━━━━━━\u001b[0m \u001b[32m90.0/90.0 kB\u001b[0m \u001b[31m8.9 MB/s\u001b[0m eta \u001b[36m0:00:00\u001b[0m\n",
            "\u001b[2K     \u001b[90m━━━━━━━━━━━━━━━━━━━━━━━━━━━━━━━━━━━━━━━━\u001b[0m \u001b[32m3.1/3.1 MB\u001b[0m \u001b[31m38.5 MB/s\u001b[0m eta \u001b[36m0:00:00\u001b[0m\n",
            "\u001b[2K     \u001b[90m━━━━━━━━━━━━━━━━━━━━━━━━━━━━━━━━━━━━━━━━\u001b[0m \u001b[32m49.2/49.2 kB\u001b[0m \u001b[31m4.0 MB/s\u001b[0m eta \u001b[36m0:00:00\u001b[0m\n",
            "\u001b[2K     \u001b[90m━━━━━━━━━━━━━━━━━━━━━━━━━━━━━━━━━━━━━━━━\u001b[0m \u001b[32m12.1/12.1 MB\u001b[0m \u001b[31m22.7 MB/s\u001b[0m eta \u001b[36m0:00:00\u001b[0m\n",
            "\u001b[?25h\u001b[31mERROR: pip's dependency resolver does not currently take into account all the packages that are installed. This behaviour is the source of the following dependency conflicts.\n",
            "cudf-cu12 24.4.1 requires pandas<2.2.2dev0,>=2.0, but you have pandas 1.5.3 which is incompatible.\n",
            "google-colab 1.0.0 requires pandas==2.0.3, but you have pandas 1.5.3 which is incompatible.\u001b[0m\u001b[31m\n",
            "\u001b[2K     \u001b[90m━━━━━━━━━━━━━━━━━━━━━━━━━━━━━━━━━━━━━━━━\u001b[0m \u001b[32m1.4/1.4 MB\u001b[0m \u001b[31m15.7 MB/s\u001b[0m eta \u001b[36m0:00:00\u001b[0m\n",
            "\u001b[2K     \u001b[90m━━━━━━━━━━━━━━━━━━━━━━━━━━━━━━━━━━━━━━━━\u001b[0m \u001b[32m417.1/417.1 kB\u001b[0m \u001b[31m31.4 MB/s\u001b[0m eta \u001b[36m0:00:00\u001b[0m\n",
            "\u001b[2K     \u001b[90m━━━━━━━━━━━━━━━━━━━━━━━━━━━━━━━━━━━━━━━━\u001b[0m \u001b[32m101.8/101.8 kB\u001b[0m \u001b[31m11.4 MB/s\u001b[0m eta \u001b[36m0:00:00\u001b[0m\n",
            "\u001b[2K     \u001b[90m━━━━━━━━━━━━━━━━━━━━━━━━━━━━━━━━━━━━━━━━\u001b[0m \u001b[32m5.6/5.6 MB\u001b[0m \u001b[31m66.2 MB/s\u001b[0m eta \u001b[36m0:00:00\u001b[0m\n",
            "\u001b[2K     \u001b[90m━━━━━━━━━━━━━━━━━━━━━━━━━━━━━━━━━━━━━━━━\u001b[0m \u001b[32m244.3/244.3 kB\u001b[0m \u001b[31m20.6 MB/s\u001b[0m eta \u001b[36m0:00:00\u001b[0m\n",
            "\u001b[2K     \u001b[90m━━━━━━━━━━━━━━━━━━━━━━━━━━━━━━━━━━━━━━━━\u001b[0m \u001b[32m471.6/471.6 kB\u001b[0m \u001b[31m35.7 MB/s\u001b[0m eta \u001b[36m0:00:00\u001b[0m\n",
            "\u001b[2K     \u001b[90m━━━━━━━━━━━━━━━━━━━━━━━━━━━━━━━━━━━━━━━━\u001b[0m \u001b[32m75.9/75.9 kB\u001b[0m \u001b[31m8.1 MB/s\u001b[0m eta \u001b[36m0:00:00\u001b[0m\n",
            "\u001b[2K     \u001b[90m━━━━━━━━━━━━━━━━━━━━━━━━━━━━━━━━━━━━━━━━\u001b[0m \u001b[32m46.0/46.0 kB\u001b[0m \u001b[31m4.9 MB/s\u001b[0m eta \u001b[36m0:00:00\u001b[0m\n",
            "\u001b[2K     \u001b[90m━━━━━━━━━━━━━━━━━━━━━━━━━━━━━━━━━━━━━━━━\u001b[0m \u001b[32m114.6/114.6 kB\u001b[0m \u001b[31m14.4 MB/s\u001b[0m eta \u001b[36m0:00:00\u001b[0m\n",
            "\u001b[2K     \u001b[90m━━━━━━━━━━━━━━━━━━━━━━━━━━━━━━━━━━━━━━━━\u001b[0m \u001b[32m159.9/159.9 kB\u001b[0m \u001b[31m8.6 MB/s\u001b[0m eta \u001b[36m0:00:00\u001b[0m\n",
            "\u001b[2K     \u001b[90m━━━━━━━━━━━━━━━━━━━━━━━━━━━━━━━━━━━━━━━━\u001b[0m \u001b[32m77.9/77.9 kB\u001b[0m \u001b[31m7.9 MB/s\u001b[0m eta \u001b[36m0:00:00\u001b[0m\n",
            "\u001b[2K     \u001b[90m━━━━━━━━━━━━━━━━━━━━━━━━━━━━━━━━━━━━━━━━\u001b[0m \u001b[32m58.3/58.3 kB\u001b[0m \u001b[31m5.8 MB/s\u001b[0m eta \u001b[36m0:00:00\u001b[0m\n",
            "\u001b[?25h  Preparing metadata (setup.py) ... \u001b[?25l\u001b[?25hdone\n",
            "  Building wheel for wikipedia (setup.py) ... \u001b[?25l\u001b[?25hdone\n",
            "\u001b[2K     \u001b[90m━━━━━━━━━━━━━━━━━━━━━━━━━━━━━━━━━━━━━━━━\u001b[0m \u001b[32m254.5/254.5 kB\u001b[0m \u001b[31m3.6 MB/s\u001b[0m eta \u001b[36m0:00:00\u001b[0m\n",
            "\u001b[2K     \u001b[90m━━━━━━━━━━━━━━━━━━━━━━━━━━━━━━━━━━━━━━━━\u001b[0m \u001b[32m589.1/589.1 kB\u001b[0m \u001b[31m7.8 MB/s\u001b[0m eta \u001b[36m0:00:00\u001b[0m\n",
            "\u001b[2K     \u001b[90m━━━━━━━━━━━━━━━━━━━━━━━━━━━━━━━━━━━━━━━━\u001b[0m \u001b[32m1.7/1.7 MB\u001b[0m \u001b[31m7.7 MB/s\u001b[0m eta \u001b[36m0:00:00\u001b[0m\n",
            "\u001b[2K     \u001b[90m━━━━━━━━━━━━━━━━━━━━━━━━━━━━━━━━━━━━━━━━\u001b[0m \u001b[32m7.1/7.1 MB\u001b[0m \u001b[31m46.7 MB/s\u001b[0m eta \u001b[36m0:00:00\u001b[0m\n",
            "\u001b[2K     \u001b[90m━━━━━━━━━━━━━━━━━━━━━━━━━━━━━━━━━━━━━━━━\u001b[0m \u001b[32m7.8/7.8 MB\u001b[0m \u001b[31m79.9 MB/s\u001b[0m eta \u001b[36m0:00:00\u001b[0m\n",
            "\u001b[2K     \u001b[90m━━━━━━━━━━━━━━━━━━━━━━━━━━━━━━━━━━━━━━━━\u001b[0m \u001b[32m86.0/86.0 kB\u001b[0m \u001b[31m2.1 MB/s\u001b[0m eta \u001b[36m0:00:00\u001b[0m\n",
            "\u001b[?25h  Preparing metadata (setup.py) ... \u001b[?25l\u001b[?25hdone\n",
            "\u001b[2K     \u001b[90m━━━━━━━━━━━━━━━━━━━━━━━━━━━━━━━━━━━━━━━━\u001b[0m \u001b[32m21.3/21.3 MB\u001b[0m \u001b[31m56.9 MB/s\u001b[0m eta \u001b[36m0:00:00\u001b[0m\n",
            "\u001b[?25h  Building wheel for sentence-transformers (setup.py) ... \u001b[?25l\u001b[?25hdone\n",
            "\u001b[2K     \u001b[90m━━━━━━━━━━━━━━━━━━━━━━━━━━━━━━━━━━━━━━━━\u001b[0m \u001b[32m17.6/17.6 MB\u001b[0m \u001b[31m35.7 MB/s\u001b[0m eta \u001b[36m0:00:00\u001b[0m\n",
            "\u001b[2K     \u001b[90m━━━━━━━━━━━━━━━━━━━━━━━━━━━━━━━━━━━━━━━━\u001b[0m \u001b[32m123.6/123.6 kB\u001b[0m \u001b[31m2.8 MB/s\u001b[0m eta \u001b[36m0:00:00\u001b[0m\n",
            "\u001b[?25h  Installing build dependencies ... \u001b[?25l\u001b[?25hdone\n",
            "  Getting requirements to build wheel ... \u001b[?25l\u001b[?25hdone\n",
            "  Preparing metadata (pyproject.toml) ... \u001b[?25l\u001b[?25hdone\n",
            "\u001b[2K     \u001b[90m━━━━━━━━━━━━━━━━━━━━━━━━━━━━━━━━━━━━━━━━\u001b[0m \u001b[32m966.2/966.2 kB\u001b[0m \u001b[31m5.6 MB/s\u001b[0m eta \u001b[36m0:00:00\u001b[0m\n",
            "\u001b[2K     \u001b[90m━━━━━━━━━━━━━━━━━━━━━━━━━━━━━━━━━━━━━━━━\u001b[0m \u001b[32m92.0/92.0 kB\u001b[0m \u001b[31m9.5 MB/s\u001b[0m eta \u001b[36m0:00:00\u001b[0m\n",
            "\u001b[2K     \u001b[90m━━━━━━━━━━━━━━━━━━━━━━━━━━━━━━━━━━━━━━━━\u001b[0m \u001b[32m62.4/62.4 kB\u001b[0m \u001b[31m6.3 MB/s\u001b[0m eta \u001b[36m0:00:00\u001b[0m\n",
            "\u001b[2K     \u001b[90m━━━━━━━━━━━━━━━━━━━━━━━━━━━━━━━━━━━━━━━━\u001b[0m \u001b[32m41.3/41.3 kB\u001b[0m \u001b[31m4.0 MB/s\u001b[0m eta \u001b[36m0:00:00\u001b[0m\n",
            "\u001b[2K     \u001b[90m━━━━━━━━━━━━━━━━━━━━━━━━━━━━━━━━━━━━━━━━\u001b[0m \u001b[32m5.4/5.4 MB\u001b[0m \u001b[31m15.3 MB/s\u001b[0m eta \u001b[36m0:00:00\u001b[0m\n",
            "\u001b[2K     \u001b[90m━━━━━━━━━━━━━━━━━━━━━━━━━━━━━━━━━━━━━━━━\u001b[0m \u001b[32m6.8/6.8 MB\u001b[0m \u001b[31m35.0 MB/s\u001b[0m eta \u001b[36m0:00:00\u001b[0m\n",
            "\u001b[2K     \u001b[90m━━━━━━━━━━━━━━━━━━━━━━━━━━━━━━━━━━━━━━━━\u001b[0m \u001b[32m5.4/5.4 MB\u001b[0m \u001b[31m49.0 MB/s\u001b[0m eta \u001b[36m0:00:00\u001b[0m\n",
            "\u001b[2K     \u001b[90m━━━━━━━━━━━━━━━━━━━━━━━━━━━━━━━━━━━━━━━━\u001b[0m \u001b[32m1.3/1.3 MB\u001b[0m \u001b[31m47.2 MB/s\u001b[0m eta \u001b[36m0:00:00\u001b[0m\n",
            "\u001b[2K     \u001b[90m━━━━━━━━━━━━━━━━━━━━━━━━━━━━━━━━━━━━━━━━\u001b[0m \u001b[32m71.9/71.9 kB\u001b[0m \u001b[31m8.4 MB/s\u001b[0m eta \u001b[36m0:00:00\u001b[0m\n",
            "\u001b[2K     \u001b[90m━━━━━━━━━━━━━━━━━━━━━━━━━━━━━━━━━━━━━━━━\u001b[0m \u001b[32m53.6/53.6 kB\u001b[0m \u001b[31m5.2 MB/s\u001b[0m eta \u001b[36m0:00:00\u001b[0m\n",
            "\u001b[2K     \u001b[90m━━━━━━━━━━━━━━━━━━━━━━━━━━━━━━━━━━━━━━━━\u001b[0m \u001b[32m145.0/145.0 kB\u001b[0m \u001b[31m15.3 MB/s\u001b[0m eta \u001b[36m0:00:00\u001b[0m\n",
            "\u001b[2K     \u001b[90m━━━━━━━━━━━━━━━━━━━━━━━━━━━━━━━━━━━━━━━━\u001b[0m \u001b[32m46.0/46.0 kB\u001b[0m \u001b[31m4.6 MB/s\u001b[0m eta \u001b[36m0:00:00\u001b[0m\n",
            "\u001b[2K     \u001b[90m━━━━━━━━━━━━━━━━━━━━━━━━━━━━━━━━━━━━━━━━\u001b[0m \u001b[32m341.4/341.4 kB\u001b[0m \u001b[31m33.4 MB/s\u001b[0m eta \u001b[36m0:00:00\u001b[0m\n",
            "\u001b[2K     \u001b[90m━━━━━━━━━━━━━━━━━━━━━━━━━━━━━━━━━━━━━━━━\u001b[0m \u001b[32m3.4/3.4 MB\u001b[0m \u001b[31m58.2 MB/s\u001b[0m eta \u001b[36m0:00:00\u001b[0m\n",
            "\u001b[2K     \u001b[90m━━━━━━━━━━━━━━━━━━━━━━━━━━━━━━━━━━━━━━━━\u001b[0m \u001b[32m1.2/1.2 MB\u001b[0m \u001b[31m48.4 MB/s\u001b[0m eta \u001b[36m0:00:00\u001b[0m\n",
            "\u001b[2K     \u001b[90m━━━━━━━━━━━━━━━━━━━━━━━━━━━━━━━━━━━━━━━━\u001b[0m \u001b[32m130.2/130.2 kB\u001b[0m \u001b[31m13.3 MB/s\u001b[0m eta \u001b[36m0:00:00\u001b[0m\n",
            "\u001b[2K     \u001b[90m━━━━━━━━━━━━━━━━━━━━━━━━━━━━━━━━━━━━━━━━\u001b[0m \u001b[32m307.7/307.7 kB\u001b[0m \u001b[31m26.7 MB/s\u001b[0m eta \u001b[36m0:00:00\u001b[0m\n",
            "\u001b[2K     \u001b[90m━━━━━━━━━━━━━━━━━━━━━━━━━━━━━━━━━━━━━━━━\u001b[0m \u001b[32m47.2/47.2 kB\u001b[0m \u001b[31m4.7 MB/s\u001b[0m eta \u001b[36m0:00:00\u001b[0m\n",
            "\u001b[2K     \u001b[90m━━━━━━━━━━━━━━━━━━━━━━━━━━━━━━━━━━━━━━━━\u001b[0m \u001b[32m86.8/86.8 kB\u001b[0m \u001b[31m9.3 MB/s\u001b[0m eta \u001b[36m0:00:00\u001b[0m\n",
            "\u001b[?25h  Building wheel for hnswlib (pyproject.toml) ... \u001b[?25l\u001b[?25hdone\n",
            "\u001b[31mERROR: pip's dependency resolver does not currently take into account all the packages that are installed. This behaviour is the source of the following dependency conflicts.\n",
            "argilla 1.29.0 requires typer<0.10.0,>=0.6.0, but you have typer 0.12.3 which is incompatible.\u001b[0m\u001b[31m\n",
            "\u001b[0m"
          ]
        }
      ],
      "source": [
        "!pip install -q langchain==0.0.219 openai==0.27.8\n",
        "\n",
        "# !pip install -q transformers==4.29.2 sentencepiece==0.1.99 accelerate==0.19.0 bitsandbytes==0.39.0\n",
        "\n",
        "!pip install -q python-dotenv==1.0.0\n",
        "\n",
        "!pip install -q pandas==1.5.3\n",
        "!pip install -q unstructured==0.7.12\n",
        "!pip install -q wikipedia==1.4.0\n",
        "!pip install -q pypdf==3.12.0\n",
        "!pip install -q jq==1.4.1\n",
        "!pip install -q nltk==3.8.1\n",
        "!pip install -q tiktoken==0.4.0\n",
        "!pip install -q transformers==4.29.2 sentencepiece==0.1.99\n",
        "!pip install -q sentence-transformers==2.2.2\n",
        "!pip install -q cohere==4.11.2\n",
        "!pip install -q faiss-cpu==1.7.4\n",
        "!pip install -q chromadb==0.3.26"
      ]
    },
    {
      "cell_type": "code",
      "source": [
        "from dotenv import dotenv_values\n",
        "env_values = dotenv_values(\"./app.env\")\n",
        "openai_api_key = env_values['OPEN_API_KEY']"
      ],
      "metadata": {
        "id": "8Q-8fdF5DMc3"
      },
      "execution_count": 5,
      "outputs": []
    },
    {
      "cell_type": "code",
      "source": [
        "from langchain.llms import OpenAI\n",
        "\n",
        "llm = OpenAI(openai_api_key=openai_api_key,\n",
        "             model_name=\"gpt-3.5-turbo\",\n",
        "             temperature=0.5)"
      ],
      "metadata": {
        "colab": {
          "base_uri": "https://localhost:8080/"
        },
        "id": "0ySNrgF_C72C",
        "outputId": "e2df95ca-0871-4eed-9c1a-c7f193d24671"
      },
      "execution_count": 6,
      "outputs": [
        {
          "output_type": "stream",
          "name": "stderr",
          "text": [
            "/usr/local/lib/python3.10/dist-packages/langchain/llms/openai.py:189: UserWarning: You are trying to use a chat model. This way of initializing it is no longer supported. Instead, please use: `from langchain.chat_models import ChatOpenAI`\n",
            "  warnings.warn(\n",
            "/usr/local/lib/python3.10/dist-packages/langchain/llms/openai.py:769: UserWarning: You are trying to use a chat model. This way of initializing it is no longer supported. Instead, please use: `from langchain.chat_models import ChatOpenAI`\n",
            "  warnings.warn(\n"
          ]
        }
      ]
    },
    {
      "cell_type": "markdown",
      "source": [
        "# Loader\n",
        "\n",
        "## Pandas"
      ],
      "metadata": {
        "id": "MbTrdVKgHt0H"
      }
    },
    {
      "cell_type": "code",
      "source": [
        "import pandas as pd\n",
        "from langchain.document_loaders import DataFrameLoader\n",
        "\n"
      ],
      "metadata": {
        "id": "-eDEPkF4Dc_5"
      },
      "execution_count": 7,
      "outputs": []
    },
    {
      "cell_type": "code",
      "source": [
        "!wget -O youtube-sub.csv https://raw.githubusercontent.com/Petlja/JupyterBookSrCyr/master/podaci/Top%2025%20YouTubers.csv"
      ],
      "metadata": {
        "colab": {
          "base_uri": "https://localhost:8080/"
        },
        "id": "S8Dgq21PH16O",
        "outputId": "84093964-5fcd-4a44-c858-a2329961caaf"
      },
      "execution_count": 8,
      "outputs": [
        {
          "output_type": "stream",
          "name": "stdout",
          "text": [
            "--2024-06-17 21:34:42--  https://raw.githubusercontent.com/Petlja/JupyterBookSrCyr/master/podaci/Top%2025%20YouTubers.csv\n",
            "Resolving raw.githubusercontent.com (raw.githubusercontent.com)... 185.199.108.133, 185.199.111.133, 185.199.110.133, ...\n",
            "Connecting to raw.githubusercontent.com (raw.githubusercontent.com)|185.199.108.133|:443... connected.\n",
            "HTTP request sent, awaiting response... 200 OK\n",
            "Length: 1153 (1.1K) [text/plain]\n",
            "Saving to: ‘youtube-sub.csv’\n",
            "\n",
            "youtube-sub.csv     100%[===================>]   1.13K  --.-KB/s    in 0s      \n",
            "\n",
            "2024-06-17 21:34:42 (12.6 MB/s) - ‘youtube-sub.csv’ saved [1153/1153]\n",
            "\n"
          ]
        }
      ]
    },
    {
      "cell_type": "code",
      "source": [
        "data =  pd.read_csv(\"youtube-sub.csv\",sep = \",\")\n",
        "data.head()"
      ],
      "metadata": {
        "colab": {
          "base_uri": "https://localhost:8080/",
          "height": 206
        },
        "id": "n7O4qRdCH58Y",
        "outputId": "e5607aec-48b8-447f-e610-2f4e318ea4d6"
      },
      "execution_count": 9,
      "outputs": [
        {
          "output_type": "execute_result",
          "data": {
            "text/plain": [
              "   RANK GRADE                        NAME  VIDEOS  SUBSCRIBERS       VIEWES\n",
              "0     1   A++                    T-Series   13629    105783888  76945588449\n",
              "1     2     A                   PewDiePie    3898     97853589  22298927681\n",
              "2     3    A+             5-Minute Crafts    3341     58629572  14860695079\n",
              "3     4   A++  Cocomelon - Nursery Rhymes     441     53163816  33519273951\n",
              "4     5   A++                   SET India   31923     51784081  36464793233"
            ],
            "text/html": [
              "\n",
              "  <div id=\"df-5883f8e4-507d-45ec-afb9-a14b8634af19\" class=\"colab-df-container\">\n",
              "    <div>\n",
              "<style scoped>\n",
              "    .dataframe tbody tr th:only-of-type {\n",
              "        vertical-align: middle;\n",
              "    }\n",
              "\n",
              "    .dataframe tbody tr th {\n",
              "        vertical-align: top;\n",
              "    }\n",
              "\n",
              "    .dataframe thead th {\n",
              "        text-align: right;\n",
              "    }\n",
              "</style>\n",
              "<table border=\"1\" class=\"dataframe\">\n",
              "  <thead>\n",
              "    <tr style=\"text-align: right;\">\n",
              "      <th></th>\n",
              "      <th>RANK</th>\n",
              "      <th>GRADE</th>\n",
              "      <th>NAME</th>\n",
              "      <th>VIDEOS</th>\n",
              "      <th>SUBSCRIBERS</th>\n",
              "      <th>VIEWES</th>\n",
              "    </tr>\n",
              "  </thead>\n",
              "  <tbody>\n",
              "    <tr>\n",
              "      <th>0</th>\n",
              "      <td>1</td>\n",
              "      <td>A++</td>\n",
              "      <td>T-Series</td>\n",
              "      <td>13629</td>\n",
              "      <td>105783888</td>\n",
              "      <td>76945588449</td>\n",
              "    </tr>\n",
              "    <tr>\n",
              "      <th>1</th>\n",
              "      <td>2</td>\n",
              "      <td>A</td>\n",
              "      <td>PewDiePie</td>\n",
              "      <td>3898</td>\n",
              "      <td>97853589</td>\n",
              "      <td>22298927681</td>\n",
              "    </tr>\n",
              "    <tr>\n",
              "      <th>2</th>\n",
              "      <td>3</td>\n",
              "      <td>A+</td>\n",
              "      <td>5-Minute Crafts</td>\n",
              "      <td>3341</td>\n",
              "      <td>58629572</td>\n",
              "      <td>14860695079</td>\n",
              "    </tr>\n",
              "    <tr>\n",
              "      <th>3</th>\n",
              "      <td>4</td>\n",
              "      <td>A++</td>\n",
              "      <td>Cocomelon - Nursery Rhymes</td>\n",
              "      <td>441</td>\n",
              "      <td>53163816</td>\n",
              "      <td>33519273951</td>\n",
              "    </tr>\n",
              "    <tr>\n",
              "      <th>4</th>\n",
              "      <td>5</td>\n",
              "      <td>A++</td>\n",
              "      <td>SET India</td>\n",
              "      <td>31923</td>\n",
              "      <td>51784081</td>\n",
              "      <td>36464793233</td>\n",
              "    </tr>\n",
              "  </tbody>\n",
              "</table>\n",
              "</div>\n",
              "    <div class=\"colab-df-buttons\">\n",
              "\n",
              "  <div class=\"colab-df-container\">\n",
              "    <button class=\"colab-df-convert\" onclick=\"convertToInteractive('df-5883f8e4-507d-45ec-afb9-a14b8634af19')\"\n",
              "            title=\"Convert this dataframe to an interactive table.\"\n",
              "            style=\"display:none;\">\n",
              "\n",
              "  <svg xmlns=\"http://www.w3.org/2000/svg\" height=\"24px\" viewBox=\"0 -960 960 960\">\n",
              "    <path d=\"M120-120v-720h720v720H120Zm60-500h600v-160H180v160Zm220 220h160v-160H400v160Zm0 220h160v-160H400v160ZM180-400h160v-160H180v160Zm440 0h160v-160H620v160ZM180-180h160v-160H180v160Zm440 0h160v-160H620v160Z\"/>\n",
              "  </svg>\n",
              "    </button>\n",
              "\n",
              "  <style>\n",
              "    .colab-df-container {\n",
              "      display:flex;\n",
              "      gap: 12px;\n",
              "    }\n",
              "\n",
              "    .colab-df-convert {\n",
              "      background-color: #E8F0FE;\n",
              "      border: none;\n",
              "      border-radius: 50%;\n",
              "      cursor: pointer;\n",
              "      display: none;\n",
              "      fill: #1967D2;\n",
              "      height: 32px;\n",
              "      padding: 0 0 0 0;\n",
              "      width: 32px;\n",
              "    }\n",
              "\n",
              "    .colab-df-convert:hover {\n",
              "      background-color: #E2EBFA;\n",
              "      box-shadow: 0px 1px 2px rgba(60, 64, 67, 0.3), 0px 1px 3px 1px rgba(60, 64, 67, 0.15);\n",
              "      fill: #174EA6;\n",
              "    }\n",
              "\n",
              "    .colab-df-buttons div {\n",
              "      margin-bottom: 4px;\n",
              "    }\n",
              "\n",
              "    [theme=dark] .colab-df-convert {\n",
              "      background-color: #3B4455;\n",
              "      fill: #D2E3FC;\n",
              "    }\n",
              "\n",
              "    [theme=dark] .colab-df-convert:hover {\n",
              "      background-color: #434B5C;\n",
              "      box-shadow: 0px 1px 3px 1px rgba(0, 0, 0, 0.15);\n",
              "      filter: drop-shadow(0px 1px 2px rgba(0, 0, 0, 0.3));\n",
              "      fill: #FFFFFF;\n",
              "    }\n",
              "  </style>\n",
              "\n",
              "    <script>\n",
              "      const buttonEl =\n",
              "        document.querySelector('#df-5883f8e4-507d-45ec-afb9-a14b8634af19 button.colab-df-convert');\n",
              "      buttonEl.style.display =\n",
              "        google.colab.kernel.accessAllowed ? 'block' : 'none';\n",
              "\n",
              "      async function convertToInteractive(key) {\n",
              "        const element = document.querySelector('#df-5883f8e4-507d-45ec-afb9-a14b8634af19');\n",
              "        const dataTable =\n",
              "          await google.colab.kernel.invokeFunction('convertToInteractive',\n",
              "                                                    [key], {});\n",
              "        if (!dataTable) return;\n",
              "\n",
              "        const docLinkHtml = 'Like what you see? Visit the ' +\n",
              "          '<a target=\"_blank\" href=https://colab.research.google.com/notebooks/data_table.ipynb>data table notebook</a>'\n",
              "          + ' to learn more about interactive tables.';\n",
              "        element.innerHTML = '';\n",
              "        dataTable['output_type'] = 'display_data';\n",
              "        await google.colab.output.renderOutput(dataTable, element);\n",
              "        const docLink = document.createElement('div');\n",
              "        docLink.innerHTML = docLinkHtml;\n",
              "        element.appendChild(docLink);\n",
              "      }\n",
              "    </script>\n",
              "  </div>\n",
              "\n",
              "\n",
              "<div id=\"df-0dd1a59c-668c-483d-82ae-7bb8aea44f18\">\n",
              "  <button class=\"colab-df-quickchart\" onclick=\"quickchart('df-0dd1a59c-668c-483d-82ae-7bb8aea44f18')\"\n",
              "            title=\"Suggest charts\"\n",
              "            style=\"display:none;\">\n",
              "\n",
              "<svg xmlns=\"http://www.w3.org/2000/svg\" height=\"24px\"viewBox=\"0 0 24 24\"\n",
              "     width=\"24px\">\n",
              "    <g>\n",
              "        <path d=\"M19 3H5c-1.1 0-2 .9-2 2v14c0 1.1.9 2 2 2h14c1.1 0 2-.9 2-2V5c0-1.1-.9-2-2-2zM9 17H7v-7h2v7zm4 0h-2V7h2v10zm4 0h-2v-4h2v4z\"/>\n",
              "    </g>\n",
              "</svg>\n",
              "  </button>\n",
              "\n",
              "<style>\n",
              "  .colab-df-quickchart {\n",
              "      --bg-color: #E8F0FE;\n",
              "      --fill-color: #1967D2;\n",
              "      --hover-bg-color: #E2EBFA;\n",
              "      --hover-fill-color: #174EA6;\n",
              "      --disabled-fill-color: #AAA;\n",
              "      --disabled-bg-color: #DDD;\n",
              "  }\n",
              "\n",
              "  [theme=dark] .colab-df-quickchart {\n",
              "      --bg-color: #3B4455;\n",
              "      --fill-color: #D2E3FC;\n",
              "      --hover-bg-color: #434B5C;\n",
              "      --hover-fill-color: #FFFFFF;\n",
              "      --disabled-bg-color: #3B4455;\n",
              "      --disabled-fill-color: #666;\n",
              "  }\n",
              "\n",
              "  .colab-df-quickchart {\n",
              "    background-color: var(--bg-color);\n",
              "    border: none;\n",
              "    border-radius: 50%;\n",
              "    cursor: pointer;\n",
              "    display: none;\n",
              "    fill: var(--fill-color);\n",
              "    height: 32px;\n",
              "    padding: 0;\n",
              "    width: 32px;\n",
              "  }\n",
              "\n",
              "  .colab-df-quickchart:hover {\n",
              "    background-color: var(--hover-bg-color);\n",
              "    box-shadow: 0 1px 2px rgba(60, 64, 67, 0.3), 0 1px 3px 1px rgba(60, 64, 67, 0.15);\n",
              "    fill: var(--button-hover-fill-color);\n",
              "  }\n",
              "\n",
              "  .colab-df-quickchart-complete:disabled,\n",
              "  .colab-df-quickchart-complete:disabled:hover {\n",
              "    background-color: var(--disabled-bg-color);\n",
              "    fill: var(--disabled-fill-color);\n",
              "    box-shadow: none;\n",
              "  }\n",
              "\n",
              "  .colab-df-spinner {\n",
              "    border: 2px solid var(--fill-color);\n",
              "    border-color: transparent;\n",
              "    border-bottom-color: var(--fill-color);\n",
              "    animation:\n",
              "      spin 1s steps(1) infinite;\n",
              "  }\n",
              "\n",
              "  @keyframes spin {\n",
              "    0% {\n",
              "      border-color: transparent;\n",
              "      border-bottom-color: var(--fill-color);\n",
              "      border-left-color: var(--fill-color);\n",
              "    }\n",
              "    20% {\n",
              "      border-color: transparent;\n",
              "      border-left-color: var(--fill-color);\n",
              "      border-top-color: var(--fill-color);\n",
              "    }\n",
              "    30% {\n",
              "      border-color: transparent;\n",
              "      border-left-color: var(--fill-color);\n",
              "      border-top-color: var(--fill-color);\n",
              "      border-right-color: var(--fill-color);\n",
              "    }\n",
              "    40% {\n",
              "      border-color: transparent;\n",
              "      border-right-color: var(--fill-color);\n",
              "      border-top-color: var(--fill-color);\n",
              "    }\n",
              "    60% {\n",
              "      border-color: transparent;\n",
              "      border-right-color: var(--fill-color);\n",
              "    }\n",
              "    80% {\n",
              "      border-color: transparent;\n",
              "      border-right-color: var(--fill-color);\n",
              "      border-bottom-color: var(--fill-color);\n",
              "    }\n",
              "    90% {\n",
              "      border-color: transparent;\n",
              "      border-bottom-color: var(--fill-color);\n",
              "    }\n",
              "  }\n",
              "</style>\n",
              "\n",
              "  <script>\n",
              "    async function quickchart(key) {\n",
              "      const quickchartButtonEl =\n",
              "        document.querySelector('#' + key + ' button');\n",
              "      quickchartButtonEl.disabled = true;  // To prevent multiple clicks.\n",
              "      quickchartButtonEl.classList.add('colab-df-spinner');\n",
              "      try {\n",
              "        const charts = await google.colab.kernel.invokeFunction(\n",
              "            'suggestCharts', [key], {});\n",
              "      } catch (error) {\n",
              "        console.error('Error during call to suggestCharts:', error);\n",
              "      }\n",
              "      quickchartButtonEl.classList.remove('colab-df-spinner');\n",
              "      quickchartButtonEl.classList.add('colab-df-quickchart-complete');\n",
              "    }\n",
              "    (() => {\n",
              "      let quickchartButtonEl =\n",
              "        document.querySelector('#df-0dd1a59c-668c-483d-82ae-7bb8aea44f18 button');\n",
              "      quickchartButtonEl.style.display =\n",
              "        google.colab.kernel.accessAllowed ? 'block' : 'none';\n",
              "    })();\n",
              "  </script>\n",
              "</div>\n",
              "\n",
              "    </div>\n",
              "  </div>\n"
            ],
            "application/vnd.google.colaboratory.intrinsic+json": {
              "type": "dataframe",
              "variable_name": "data",
              "summary": "{\n  \"name\": \"data\",\n  \"rows\": 25,\n  \"fields\": [\n    {\n      \"column\": \"RANK\",\n      \"properties\": {\n        \"dtype\": \"number\",\n        \"std\": 7,\n        \"min\": 1,\n        \"max\": 25,\n        \"num_unique_values\": 25,\n        \"samples\": [\n          9,\n          17,\n          1\n        ],\n        \"semantic_type\": \"\",\n        \"description\": \"\"\n      }\n    },\n    {\n      \"column\": \"GRADE\",\n      \"properties\": {\n        \"dtype\": \"category\",\n        \"num_unique_values\": 7,\n        \"samples\": [\n          \"A++\",\n          \"A\",\n          \"A-\"\n        ],\n        \"semantic_type\": \"\",\n        \"description\": \"\"\n      }\n    },\n    {\n      \"column\": \"NAME\",\n      \"properties\": {\n        \"dtype\": \"string\",\n        \"num_unique_values\": 25,\n        \"samples\": [\n          \"Dude Perfect\",\n          \"whinderssonnunes\",\n          \"T-Series\"\n        ],\n        \"semantic_type\": \"\",\n        \"description\": \"\"\n      }\n    },\n    {\n      \"column\": \"VIDEOS\",\n      \"properties\": {\n        \"dtype\": \"number\",\n        \"std\": 10376,\n        \"min\": 97,\n        \"max\": 42404,\n        \"num_unique_values\": 25,\n        \"samples\": [\n          209,\n          363,\n          13629\n        ],\n        \"semantic_type\": \"\",\n        \"description\": \"\"\n      }\n    },\n    {\n      \"column\": \"SUBSCRIBERS\",\n      \"properties\": {\n        \"dtype\": \"number\",\n        \"std\": 18348940,\n        \"min\": 33362512,\n        \"max\": 105783888,\n        \"num_unique_values\": 25,\n        \"samples\": [\n          43796634,\n          36059417,\n          105783888\n        ],\n        \"semantic_type\": \"\",\n        \"description\": \"\"\n      }\n    },\n    {\n      \"column\": \"VIEWES\",\n      \"properties\": {\n        \"dtype\": \"number\",\n        \"std\": 16867839990,\n        \"min\": 255089844,\n        \"max\": 76945588449,\n        \"num_unique_values\": 25,\n        \"samples\": [\n          8354321862,\n          2965932071,\n          76945588449\n        ],\n        \"semantic_type\": \"\",\n        \"description\": \"\"\n      }\n    }\n  ]\n}"
            }
          },
          "metadata": {},
          "execution_count": 9
        }
      ]
    },
    {
      "cell_type": "code",
      "source": [
        "data = data[ [\"NAME\", \"VIDEOS\", \"SUBSCRIBERS\", \"VIEWES\"] ]\n",
        "data.head()"
      ],
      "metadata": {
        "colab": {
          "base_uri": "https://localhost:8080/",
          "height": 206
        },
        "id": "R4lZ5g28H-hd",
        "outputId": "e1d34ce2-b401-452e-ea57-2e38ecb24126"
      },
      "execution_count": 11,
      "outputs": [
        {
          "output_type": "execute_result",
          "data": {
            "text/plain": [
              "                         NAME  VIDEOS  SUBSCRIBERS       VIEWES\n",
              "0                    T-Series   13629    105783888  76945588449\n",
              "1                   PewDiePie    3898     97853589  22298927681\n",
              "2             5-Minute Crafts    3341     58629572  14860695079\n",
              "3  Cocomelon - Nursery Rhymes     441     53163816  33519273951\n",
              "4                   SET India   31923     51784081  36464793233"
            ],
            "text/html": [
              "\n",
              "  <div id=\"df-69686881-c16b-418f-b1d6-13637d779645\" class=\"colab-df-container\">\n",
              "    <div>\n",
              "<style scoped>\n",
              "    .dataframe tbody tr th:only-of-type {\n",
              "        vertical-align: middle;\n",
              "    }\n",
              "\n",
              "    .dataframe tbody tr th {\n",
              "        vertical-align: top;\n",
              "    }\n",
              "\n",
              "    .dataframe thead th {\n",
              "        text-align: right;\n",
              "    }\n",
              "</style>\n",
              "<table border=\"1\" class=\"dataframe\">\n",
              "  <thead>\n",
              "    <tr style=\"text-align: right;\">\n",
              "      <th></th>\n",
              "      <th>NAME</th>\n",
              "      <th>VIDEOS</th>\n",
              "      <th>SUBSCRIBERS</th>\n",
              "      <th>VIEWES</th>\n",
              "    </tr>\n",
              "  </thead>\n",
              "  <tbody>\n",
              "    <tr>\n",
              "      <th>0</th>\n",
              "      <td>T-Series</td>\n",
              "      <td>13629</td>\n",
              "      <td>105783888</td>\n",
              "      <td>76945588449</td>\n",
              "    </tr>\n",
              "    <tr>\n",
              "      <th>1</th>\n",
              "      <td>PewDiePie</td>\n",
              "      <td>3898</td>\n",
              "      <td>97853589</td>\n",
              "      <td>22298927681</td>\n",
              "    </tr>\n",
              "    <tr>\n",
              "      <th>2</th>\n",
              "      <td>5-Minute Crafts</td>\n",
              "      <td>3341</td>\n",
              "      <td>58629572</td>\n",
              "      <td>14860695079</td>\n",
              "    </tr>\n",
              "    <tr>\n",
              "      <th>3</th>\n",
              "      <td>Cocomelon - Nursery Rhymes</td>\n",
              "      <td>441</td>\n",
              "      <td>53163816</td>\n",
              "      <td>33519273951</td>\n",
              "    </tr>\n",
              "    <tr>\n",
              "      <th>4</th>\n",
              "      <td>SET India</td>\n",
              "      <td>31923</td>\n",
              "      <td>51784081</td>\n",
              "      <td>36464793233</td>\n",
              "    </tr>\n",
              "  </tbody>\n",
              "</table>\n",
              "</div>\n",
              "    <div class=\"colab-df-buttons\">\n",
              "\n",
              "  <div class=\"colab-df-container\">\n",
              "    <button class=\"colab-df-convert\" onclick=\"convertToInteractive('df-69686881-c16b-418f-b1d6-13637d779645')\"\n",
              "            title=\"Convert this dataframe to an interactive table.\"\n",
              "            style=\"display:none;\">\n",
              "\n",
              "  <svg xmlns=\"http://www.w3.org/2000/svg\" height=\"24px\" viewBox=\"0 -960 960 960\">\n",
              "    <path d=\"M120-120v-720h720v720H120Zm60-500h600v-160H180v160Zm220 220h160v-160H400v160Zm0 220h160v-160H400v160ZM180-400h160v-160H180v160Zm440 0h160v-160H620v160ZM180-180h160v-160H180v160Zm440 0h160v-160H620v160Z\"/>\n",
              "  </svg>\n",
              "    </button>\n",
              "\n",
              "  <style>\n",
              "    .colab-df-container {\n",
              "      display:flex;\n",
              "      gap: 12px;\n",
              "    }\n",
              "\n",
              "    .colab-df-convert {\n",
              "      background-color: #E8F0FE;\n",
              "      border: none;\n",
              "      border-radius: 50%;\n",
              "      cursor: pointer;\n",
              "      display: none;\n",
              "      fill: #1967D2;\n",
              "      height: 32px;\n",
              "      padding: 0 0 0 0;\n",
              "      width: 32px;\n",
              "    }\n",
              "\n",
              "    .colab-df-convert:hover {\n",
              "      background-color: #E2EBFA;\n",
              "      box-shadow: 0px 1px 2px rgba(60, 64, 67, 0.3), 0px 1px 3px 1px rgba(60, 64, 67, 0.15);\n",
              "      fill: #174EA6;\n",
              "    }\n",
              "\n",
              "    .colab-df-buttons div {\n",
              "      margin-bottom: 4px;\n",
              "    }\n",
              "\n",
              "    [theme=dark] .colab-df-convert {\n",
              "      background-color: #3B4455;\n",
              "      fill: #D2E3FC;\n",
              "    }\n",
              "\n",
              "    [theme=dark] .colab-df-convert:hover {\n",
              "      background-color: #434B5C;\n",
              "      box-shadow: 0px 1px 3px 1px rgba(0, 0, 0, 0.15);\n",
              "      filter: drop-shadow(0px 1px 2px rgba(0, 0, 0, 0.3));\n",
              "      fill: #FFFFFF;\n",
              "    }\n",
              "  </style>\n",
              "\n",
              "    <script>\n",
              "      const buttonEl =\n",
              "        document.querySelector('#df-69686881-c16b-418f-b1d6-13637d779645 button.colab-df-convert');\n",
              "      buttonEl.style.display =\n",
              "        google.colab.kernel.accessAllowed ? 'block' : 'none';\n",
              "\n",
              "      async function convertToInteractive(key) {\n",
              "        const element = document.querySelector('#df-69686881-c16b-418f-b1d6-13637d779645');\n",
              "        const dataTable =\n",
              "          await google.colab.kernel.invokeFunction('convertToInteractive',\n",
              "                                                    [key], {});\n",
              "        if (!dataTable) return;\n",
              "\n",
              "        const docLinkHtml = 'Like what you see? Visit the ' +\n",
              "          '<a target=\"_blank\" href=https://colab.research.google.com/notebooks/data_table.ipynb>data table notebook</a>'\n",
              "          + ' to learn more about interactive tables.';\n",
              "        element.innerHTML = '';\n",
              "        dataTable['output_type'] = 'display_data';\n",
              "        await google.colab.output.renderOutput(dataTable, element);\n",
              "        const docLink = document.createElement('div');\n",
              "        docLink.innerHTML = docLinkHtml;\n",
              "        element.appendChild(docLink);\n",
              "      }\n",
              "    </script>\n",
              "  </div>\n",
              "\n",
              "\n",
              "<div id=\"df-903155ac-2c2a-4a26-95d3-51e2618e02eb\">\n",
              "  <button class=\"colab-df-quickchart\" onclick=\"quickchart('df-903155ac-2c2a-4a26-95d3-51e2618e02eb')\"\n",
              "            title=\"Suggest charts\"\n",
              "            style=\"display:none;\">\n",
              "\n",
              "<svg xmlns=\"http://www.w3.org/2000/svg\" height=\"24px\"viewBox=\"0 0 24 24\"\n",
              "     width=\"24px\">\n",
              "    <g>\n",
              "        <path d=\"M19 3H5c-1.1 0-2 .9-2 2v14c0 1.1.9 2 2 2h14c1.1 0 2-.9 2-2V5c0-1.1-.9-2-2-2zM9 17H7v-7h2v7zm4 0h-2V7h2v10zm4 0h-2v-4h2v4z\"/>\n",
              "    </g>\n",
              "</svg>\n",
              "  </button>\n",
              "\n",
              "<style>\n",
              "  .colab-df-quickchart {\n",
              "      --bg-color: #E8F0FE;\n",
              "      --fill-color: #1967D2;\n",
              "      --hover-bg-color: #E2EBFA;\n",
              "      --hover-fill-color: #174EA6;\n",
              "      --disabled-fill-color: #AAA;\n",
              "      --disabled-bg-color: #DDD;\n",
              "  }\n",
              "\n",
              "  [theme=dark] .colab-df-quickchart {\n",
              "      --bg-color: #3B4455;\n",
              "      --fill-color: #D2E3FC;\n",
              "      --hover-bg-color: #434B5C;\n",
              "      --hover-fill-color: #FFFFFF;\n",
              "      --disabled-bg-color: #3B4455;\n",
              "      --disabled-fill-color: #666;\n",
              "  }\n",
              "\n",
              "  .colab-df-quickchart {\n",
              "    background-color: var(--bg-color);\n",
              "    border: none;\n",
              "    border-radius: 50%;\n",
              "    cursor: pointer;\n",
              "    display: none;\n",
              "    fill: var(--fill-color);\n",
              "    height: 32px;\n",
              "    padding: 0;\n",
              "    width: 32px;\n",
              "  }\n",
              "\n",
              "  .colab-df-quickchart:hover {\n",
              "    background-color: var(--hover-bg-color);\n",
              "    box-shadow: 0 1px 2px rgba(60, 64, 67, 0.3), 0 1px 3px 1px rgba(60, 64, 67, 0.15);\n",
              "    fill: var(--button-hover-fill-color);\n",
              "  }\n",
              "\n",
              "  .colab-df-quickchart-complete:disabled,\n",
              "  .colab-df-quickchart-complete:disabled:hover {\n",
              "    background-color: var(--disabled-bg-color);\n",
              "    fill: var(--disabled-fill-color);\n",
              "    box-shadow: none;\n",
              "  }\n",
              "\n",
              "  .colab-df-spinner {\n",
              "    border: 2px solid var(--fill-color);\n",
              "    border-color: transparent;\n",
              "    border-bottom-color: var(--fill-color);\n",
              "    animation:\n",
              "      spin 1s steps(1) infinite;\n",
              "  }\n",
              "\n",
              "  @keyframes spin {\n",
              "    0% {\n",
              "      border-color: transparent;\n",
              "      border-bottom-color: var(--fill-color);\n",
              "      border-left-color: var(--fill-color);\n",
              "    }\n",
              "    20% {\n",
              "      border-color: transparent;\n",
              "      border-left-color: var(--fill-color);\n",
              "      border-top-color: var(--fill-color);\n",
              "    }\n",
              "    30% {\n",
              "      border-color: transparent;\n",
              "      border-left-color: var(--fill-color);\n",
              "      border-top-color: var(--fill-color);\n",
              "      border-right-color: var(--fill-color);\n",
              "    }\n",
              "    40% {\n",
              "      border-color: transparent;\n",
              "      border-right-color: var(--fill-color);\n",
              "      border-top-color: var(--fill-color);\n",
              "    }\n",
              "    60% {\n",
              "      border-color: transparent;\n",
              "      border-right-color: var(--fill-color);\n",
              "    }\n",
              "    80% {\n",
              "      border-color: transparent;\n",
              "      border-right-color: var(--fill-color);\n",
              "      border-bottom-color: var(--fill-color);\n",
              "    }\n",
              "    90% {\n",
              "      border-color: transparent;\n",
              "      border-bottom-color: var(--fill-color);\n",
              "    }\n",
              "  }\n",
              "</style>\n",
              "\n",
              "  <script>\n",
              "    async function quickchart(key) {\n",
              "      const quickchartButtonEl =\n",
              "        document.querySelector('#' + key + ' button');\n",
              "      quickchartButtonEl.disabled = true;  // To prevent multiple clicks.\n",
              "      quickchartButtonEl.classList.add('colab-df-spinner');\n",
              "      try {\n",
              "        const charts = await google.colab.kernel.invokeFunction(\n",
              "            'suggestCharts', [key], {});\n",
              "      } catch (error) {\n",
              "        console.error('Error during call to suggestCharts:', error);\n",
              "      }\n",
              "      quickchartButtonEl.classList.remove('colab-df-spinner');\n",
              "      quickchartButtonEl.classList.add('colab-df-quickchart-complete');\n",
              "    }\n",
              "    (() => {\n",
              "      let quickchartButtonEl =\n",
              "        document.querySelector('#df-903155ac-2c2a-4a26-95d3-51e2618e02eb button');\n",
              "      quickchartButtonEl.style.display =\n",
              "        google.colab.kernel.accessAllowed ? 'block' : 'none';\n",
              "    })();\n",
              "  </script>\n",
              "</div>\n",
              "\n",
              "    </div>\n",
              "  </div>\n"
            ],
            "application/vnd.google.colaboratory.intrinsic+json": {
              "type": "dataframe",
              "variable_name": "data",
              "summary": "{\n  \"name\": \"data\",\n  \"rows\": 25,\n  \"fields\": [\n    {\n      \"column\": \"NAME\",\n      \"properties\": {\n        \"dtype\": \"string\",\n        \"num_unique_values\": 25,\n        \"samples\": [\n          \"Dude Perfect\",\n          \"whinderssonnunes\",\n          \"T-Series\"\n        ],\n        \"semantic_type\": \"\",\n        \"description\": \"\"\n      }\n    },\n    {\n      \"column\": \"VIDEOS\",\n      \"properties\": {\n        \"dtype\": \"number\",\n        \"std\": 10376,\n        \"min\": 97,\n        \"max\": 42404,\n        \"num_unique_values\": 25,\n        \"samples\": [\n          209,\n          363,\n          13629\n        ],\n        \"semantic_type\": \"\",\n        \"description\": \"\"\n      }\n    },\n    {\n      \"column\": \"SUBSCRIBERS\",\n      \"properties\": {\n        \"dtype\": \"number\",\n        \"std\": 18348940,\n        \"min\": 33362512,\n        \"max\": 105783888,\n        \"num_unique_values\": 25,\n        \"samples\": [\n          43796634,\n          36059417,\n          105783888\n        ],\n        \"semantic_type\": \"\",\n        \"description\": \"\"\n      }\n    },\n    {\n      \"column\": \"VIEWES\",\n      \"properties\": {\n        \"dtype\": \"number\",\n        \"std\": 16867839990,\n        \"min\": 255089844,\n        \"max\": 76945588449,\n        \"num_unique_values\": 25,\n        \"samples\": [\n          8354321862,\n          2965932071,\n          76945588449\n        ],\n        \"semantic_type\": \"\",\n        \"description\": \"\"\n      }\n    }\n  ]\n}"
            }
          },
          "metadata": {},
          "execution_count": 11
        }
      ]
    },
    {
      "cell_type": "code",
      "source": [
        "# we need to define the main column\n",
        "llm_loader =  DataFrameLoader(data,page_content_column= \"NAME\")\n",
        "llm_loader = llm_loader.load()"
      ],
      "metadata": {
        "id": "DbEkNsz0IDv7"
      },
      "execution_count": 12,
      "outputs": []
    },
    {
      "cell_type": "code",
      "source": [
        "llm_loader[0]"
      ],
      "metadata": {
        "colab": {
          "base_uri": "https://localhost:8080/"
        },
        "id": "Gr1LEWQLIh9N",
        "outputId": "0e377a90-a82f-415c-c004-c19810d8c1da"
      },
      "execution_count": 13,
      "outputs": [
        {
          "output_type": "execute_result",
          "data": {
            "text/plain": [
              "Document(page_content='T-Series', metadata={'VIDEOS': 13629, 'SUBSCRIBERS': 105783888, 'VIEWES': 76945588449})"
            ]
          },
          "metadata": {},
          "execution_count": 13
        }
      ]
    },
    {
      "cell_type": "markdown",
      "source": [
        "## URLS"
      ],
      "metadata": {
        "id": "MggZX0oFInoa"
      }
    },
    {
      "cell_type": "code",
      "source": [
        "from langchain.document_loaders import WebBaseLoader , UnstructuredURLLoader\n",
        "urls = [\n",
        "    \"https://www.apple.com/in/support/products/faqs.html\",\n",
        "    \"https://www.apple.com/legal/sales-support/\",\n",
        "]\n"
      ],
      "metadata": {
        "id": "RJ0rNbmnIlzr"
      },
      "execution_count": 15,
      "outputs": []
    },
    {
      "cell_type": "code",
      "source": [
        "llm_loader = UnstructuredURLLoader(urls)\n",
        "llm_loader = llm_loader.load()"
      ],
      "metadata": {
        "colab": {
          "base_uri": "https://localhost:8080/"
        },
        "id": "Ey2_LGTZI7M-",
        "outputId": "45c1bb73-35f5-4c44-d92b-5f3cabeff0b1"
      },
      "execution_count": 16,
      "outputs": [
        {
          "output_type": "stream",
          "name": "stderr",
          "text": [
            "[nltk_data] Downloading package punkt to /root/nltk_data...\n",
            "[nltk_data]   Unzipping tokenizers/punkt.zip.\n",
            "[nltk_data] Downloading package averaged_perceptron_tagger to\n",
            "[nltk_data]     /root/nltk_data...\n",
            "[nltk_data]   Unzipping taggers/averaged_perceptron_tagger.zip.\n"
          ]
        }
      ]
    },
    {
      "cell_type": "code",
      "source": [
        "llm_loader[0]"
      ],
      "metadata": {
        "colab": {
          "base_uri": "https://localhost:8080/"
        },
        "id": "O-G9IxNGKEqc",
        "outputId": "ca78ed4b-e6dc-44eb-c17c-3a93a05b0c6a"
      },
      "execution_count": 17,
      "outputs": [
        {
          "output_type": "execute_result",
          "data": {
            "text/plain": [
              "Document(page_content='Apple\\n\\nStoreMaciPadiPhoneWatchAirPodsTV & HomeEntertainmentAccessoriesSupport\\n\\n\\n\\n0+\\n\\nAppleCare Products\\n\\nOpen Menu\\n\\nClose Menu\\n\\nMac\\n\\niPad\\n\\niPhone\\n\\nApple TV\\n\\niPod\\n\\nBuy Now\\n\\nFrequently Asked Questions\\n\\nWhere can I purchase the AppleCare Protection Plan?\\n\\nThe AppleCare Protection Plan is available at the Apple Online Store and many Apple-authorised resellers and wireless service providers.\\n\\nHow do I initiate repair service under the AppleCare Protection Plan?\\n\\nCarry-in service. Carry your product into an Apple Authorised Service Provider.\\n\\nOnsite service. Contact us and we’ll help you arrange an Apple-authorised repair for your desktop Mac at your location, at no additional charge.\\n\\nDo-It-Yourself service. Contact us and we may be able to send you what you need to service your own product, such as accessories.\\n\\nThe AppleCare Protection Plan for Mac, for iPod and for Apple TV provide global repair coverage. Service will be limited to the options available in the country where service is requested. Service options, parts availability and response times vary by country.\\n\\nAll repairs will be completed using genuine Apple parts for repair service. All repairs are performed by Apple-authorised technicians.\\n\\nPlease see the AppleCare Protection Plan Terms and Conditions for complete details.\\n\\nIs the AppleCare Protection Plan transferable?\\n\\nYes. If you choose to sell or give away your Apple product, you can also transfer the ownership of the AppleCare Protection Plan. Please see the Terms\\xa0and\\xa0Conditions for complete details.\\n\\nWhen I purchase the AppleCare Protection Plan, do I need to register it?\\n\\nIn most cases, if you purchase the AppleCare Protection Plan at the same time as your Apple hardware from selected Apple resellers, you will not need to register it as your AppleCare agreement will be automatically registered.\\n\\nWith automatic registration, you will receive a proof of coverage, either immediately in the form of a receipt that indicates the end date of your AppleCare product coverage, or within 30 days in the form of a Proof of Coverage certificate.\\n\\nYou’ll need to register your AppleCare Protection Plan only if you purchase the plan and your covered product separately, or if you purchase your hardware from a reseller who does not automatically register the plan.\\n\\nYou can register your AppleCare Protection Plan here or contact Apple at the phone number included in your AppleCare Protection Plan package. To verify that your hardware is covered under the AppleCare Protection Plan, click here. The registration process can take up to 24 hours to be visible in Apple’s systems.\\n\\nFor example, after you register, Apple will have your hardware, AppleCare Protection Plan and personal contact information on file. When you contact Apple for service or support, Apple can access your information straight away and start addressing your issue, rather than spending time verifying your eligibility.\\n\\nHow can I verify how much coverage I have left?\\n\\nYou can verify your coverage here.\\n\\n\\uf8ff\\n\\t\\t\\t\\t\\tApple\\n\\nSupport\\n\\nAppleCare\\n\\nFrequently Asked Questions\\n\\nShop and Learn\\n\\t\\t\\t\\t\\t\\n\\t\\t\\t\\t\\t\\tShop and Learn\\n\\nStore\\n\\nMac\\n\\niPad\\n\\niPhone\\n\\nWatch\\n\\nAirPods\\n\\nTV & Home\\n\\nAirTag\\n\\nAccessories\\n\\nGift Cards\\n\\nApple Wallet\\n\\t\\t\\t\\t\\t\\n\\t\\t\\t\\t\\t\\tApple Wallet\\n\\nWallet\\n\\nAccount\\n\\t\\t\\t\\t\\t\\n\\t\\t\\t\\t\\t\\tAccount\\n\\nManage Your Apple\\xa0ID\\n\\nApple Store Account\\n\\niCloud.com\\n\\nEntertainment\\n\\t\\t\\t\\t\\t\\n\\t\\t\\t\\t\\t\\tEntertainment\\n\\nApple\\xa0One\\n\\nApple\\xa0TV+\\n\\nApple\\xa0Music\\n\\nApple\\xa0Arcade\\n\\nApple Podcasts\\n\\nApple\\xa0Books\\n\\nApp\\xa0Store\\n\\nApple Store\\n\\t\\t\\t\\t\\t\\n\\t\\t\\t\\t\\t\\tApple Store\\n\\nFind a Store\\n\\nGenius Bar\\n\\nToday at Apple\\n\\nGroup Reservations\\n\\nApple Camp\\n\\nApple\\xa0Trade\\xa0In\\n\\nWays to Buy\\n\\nRecycling Programme\\n\\nOrder Status\\n\\nShopping Help\\n\\nFor Business\\n\\t\\t\\t\\t\\t\\n\\t\\t\\t\\t\\t\\tFor Business\\n\\nApple and Business\\n\\nShop for Business\\n\\nFor Education\\n\\t\\t\\t\\t\\t\\n\\t\\t\\t\\t\\t\\tFor Education\\n\\nApple and Education\\n\\nShop for Education\\n\\nShop for University\\n\\nFor Healthcare\\n\\t\\t\\t\\t\\t\\n\\t\\t\\t\\t\\t\\tFor Healthcare\\n\\nApple in Healthcare\\n\\nHealth on Apple\\xa0Watch\\n\\nApple Values\\n\\t\\t\\t\\t\\t\\n\\t\\t\\t\\t\\t\\tApple Values\\n\\nAccessibility\\n\\nEducation\\n\\nEnvironment\\n\\nPrivacy\\n\\nSupply Chain\\n\\nAbout Apple\\n\\t\\t\\t\\t\\t\\n\\t\\t\\t\\t\\t\\tAbout Apple\\n\\nNewsroom\\n\\nApple Leadership\\n\\nCareer Opportunities\\n\\nInvestors\\n\\nEthics & Compliance\\n\\nEvents\\n\\nContact Apple\\n\\n\\n\\t\\t\\tMore ways to shop: \\n\\nFind an Apple Store or\\n\\nother retailer near you.\\n\\nOr call 000800\\xa0040\\xa01966.\\n\\nIndia\\n\\nCopyright ©\\n\\t\\t\\t\\t\\n\\t\\t\\t\\t2024\\n\\t\\t\\t\\t Apple Inc. All rights reserved.\\n\\nPrivacy Policy\\n\\nTerms of Use\\n\\nSales Policy\\n\\nLegal\\n\\nSite Map', metadata={'source': 'https://www.apple.com/in/support/products/faqs.html'})"
            ]
          },
          "metadata": {},
          "execution_count": 17
        }
      ]
    },
    {
      "cell_type": "markdown",
      "source": [
        "## Wikibedia"
      ],
      "metadata": {
        "id": "7ltHbG9vKIxv"
      }
    },
    {
      "cell_type": "code",
      "source": [
        "from langchain.document_loaders import WikipediaLoader\n",
        "\n",
        "llm_loader =  WikipediaLoader(query=\"Apple\")\n",
        "llm_loader = llm_loader.load()"
      ],
      "metadata": {
        "colab": {
          "base_uri": "https://localhost:8080/"
        },
        "id": "QkUGzUOoKHPN",
        "outputId": "f715ad4c-1ad1-4728-f060-06b39951c938"
      },
      "execution_count": 18,
      "outputs": [
        {
          "output_type": "stream",
          "name": "stderr",
          "text": [
            "/usr/local/lib/python3.10/dist-packages/wikipedia/wikipedia.py:389: GuessedAtParserWarning: No parser was explicitly specified, so I'm using the best available HTML parser for this system (\"lxml\"). This usually isn't a problem, but if you run this code on another system, or in a different virtual environment, it may use a different parser and behave differently.\n",
            "\n",
            "The code that caused this warning is on line 389 of the file /usr/local/lib/python3.10/dist-packages/wikipedia/wikipedia.py. To get rid of this warning, pass the additional argument 'features=\"lxml\"' to the BeautifulSoup constructor.\n",
            "\n",
            "  lis = BeautifulSoup(html).find_all('li')\n"
          ]
        }
      ]
    },
    {
      "cell_type": "code",
      "source": [
        "len(llm_loader)"
      ],
      "metadata": {
        "colab": {
          "base_uri": "https://localhost:8080/"
        },
        "id": "I8mMQJ4XKTTF",
        "outputId": "0ba8d19b-8a87-4c24-ecd0-b50456d4e01c"
      },
      "execution_count": 19,
      "outputs": [
        {
          "output_type": "execute_result",
          "data": {
            "text/plain": [
              "9"
            ]
          },
          "metadata": {},
          "execution_count": 19
        }
      ]
    },
    {
      "cell_type": "code",
      "source": [
        "llm_loader[0]"
      ],
      "metadata": {
        "colab": {
          "base_uri": "https://localhost:8080/"
        },
        "id": "KUg9mN-WKX0D",
        "outputId": "71025ef9-9896-44c5-9bd9-8829e5470beb"
      },
      "execution_count": 20,
      "outputs": [
        {
          "output_type": "execute_result",
          "data": {
            "text/plain": [
              "Document(page_content='An apple is a round, edible fruit produced by an apple tree (Malus spp., among them the domestic or orchard apple; Malus domestica). Apple trees are cultivated worldwide and are the most widely grown species in the genus Malus. The tree originated in Central Asia, where its wild ancestor, Malus sieversii, is still found. Apples have been grown for thousands of years in Eurasia and were introduced to North America by European colonists. Apples have religious and mythological significance in many cultures, including Norse, Greek, and European Christian tradition.\\nApples grown from seed tend to be very different from those of their parents, and the resultant fruit frequently lacks desired characteristics. For commercial purposes, including botanical evaluation, apple cultivars are propagated by clonal grafting onto rootstocks. Apple trees grown without rootstocks tend to be larger and much slower to fruit after planting. Rootstocks are used to control the speed of growth and the size of the resulting tree, allowing for easier harvesting.\\nThere are more than 7,500 cultivars of apples. Different cultivars are bred for various tastes and uses, including cooking, eating raw, and cider or apple juice production. Trees and fruit are prone to fungal, bacterial, and pest problems, which can be controlled by a number of organic and non-organic means. In 2010, the fruit\\'s genome was sequenced as part of research on disease control and selective breeding in apple production.\\nFrom 2014 to 2023, there have been an average of 78 million tonnes of apples globally produced per year. In 2023, the worldwide production of apples was 83 million tonnes, with China accounting for nearly half of the total.\\n\\n\\n== Etymology ==\\nThe word apple, whose Old English ancestor is æppel, is descended from the Proto-Germanic noun *aplaz, descended in turn from Proto-Indo-European *h₂ébōl.\\nAs late as the 17th century, the word also functioned as a generic term for all fruit, including nuts. This can be compared to the 14th-century Middle English expression appel of paradis, meaning a banana.\\n\\n\\n== Description ==\\nThe apple is a deciduous tree, generally standing 2 to 4.5 metres (6 to 15 feet) tall in cultivation and up to 9 m (30 ft) in the wild. When cultivated, the size, shape and branch density are determined by rootstock selection and trimming method. The leaves are alternately arranged dark green-colored simple ovals with serrated margins and slightly downy undersides.\\nBlossoms are produced in spring simultaneously with the budding of the leaves and are produced on spurs and some long shoots. The 3-to-4-centimeter (1-to-1+1⁄2-inch) flowers are white with a pink tinge that gradually fades,  five petaled, with an inflorescence consisting of a cyme with 4–6 flowers. The central flower of the inflorescence is called the \"king bloom\"; it opens first and can develop a larger fruit.\\nThe fruit is a pome that matures in late summer or autumn, and cultivars exist in a wide range of sizes. Commercial growers aim to produce an apple that is 7 to 8.5 cm (2+3⁄4 to 3+1⁄4 in) in diameter, due to market preference. Some consumers, especially in Japan, prefer a larger apple, while apples less than 5.5 cm (2+1⁄4 in) are generally used for juicing and have little fresh market value.\\n\\n\\n=== Skin ===\\n\\nThe groundcolor of ripe apples is yellow, green, yellow-green or whitish yellow. The overcolor of ripe apples can be orange-red, pink-red, red, purple-red or brown-red.  The overcolor amount can be 0–100%. The skin may also be wholly or partly russeted (i.e. rough and brown). The skin is covered in a protective layer of epicuticular wax. The exocarp (flesh) is generally pale yellowish-white, though pink, yellow or green exocarps also occur.\\n\\n\\n=== Chemistry ===\\nImportant volatile compounds in apples include acetaldehyde, ethyl acetate, 1-butanal, ethanol, 2-methylbutanal, 3-methylbutanal, ethyl propionate, ethyl 2-methylpropionate, ethyl butyrate, ethyl 2-methyl butyrate, hexanal, 1-butano', metadata={'title': 'Apple', 'summary': \"An apple is a round, edible fruit produced by an apple tree (Malus spp., among them the domestic or orchard apple; Malus domestica). Apple trees are cultivated worldwide and are the most widely grown species in the genus Malus. The tree originated in Central Asia, where its wild ancestor, Malus sieversii, is still found. Apples have been grown for thousands of years in Eurasia and were introduced to North America by European colonists. Apples have religious and mythological significance in many cultures, including Norse, Greek, and European Christian tradition.\\nApples grown from seed tend to be very different from those of their parents, and the resultant fruit frequently lacks desired characteristics. For commercial purposes, including botanical evaluation, apple cultivars are propagated by clonal grafting onto rootstocks. Apple trees grown without rootstocks tend to be larger and much slower to fruit after planting. Rootstocks are used to control the speed of growth and the size of the resulting tree, allowing for easier harvesting.\\nThere are more than 7,500 cultivars of apples. Different cultivars are bred for various tastes and uses, including cooking, eating raw, and cider or apple juice production. Trees and fruit are prone to fungal, bacterial, and pest problems, which can be controlled by a number of organic and non-organic means. In 2010, the fruit's genome was sequenced as part of research on disease control and selective breeding in apple production.\\nFrom 2014 to 2023, there have been an average of 78 million tonnes of apples globally produced per year. In 2023, the worldwide production of apples was 83 million tonnes, with China accounting for nearly half of the total.\", 'source': 'https://en.wikipedia.org/wiki/Apple'})"
            ]
          },
          "metadata": {},
          "execution_count": 20
        }
      ]
    },
    {
      "cell_type": "markdown",
      "source": [
        "## PDF"
      ],
      "metadata": {
        "id": "zWeCPQgUKa97"
      }
    },
    {
      "cell_type": "code",
      "source": [
        "!wget -O laravel.pdf https://laraveldaily.com/wp-content/uploads/2020/04/laravel-tips-2020-04.pdf"
      ],
      "metadata": {
        "colab": {
          "base_uri": "https://localhost:8080/"
        },
        "id": "bnPfxKi0KY9U",
        "outputId": "96d9dcab-a9e5-4a83-f0f0-89237ff30a08"
      },
      "execution_count": 21,
      "outputs": [
        {
          "output_type": "stream",
          "name": "stdout",
          "text": [
            "--2024-06-17 21:46:00--  https://laraveldaily.com/wp-content/uploads/2020/04/laravel-tips-2020-04.pdf\n",
            "Resolving laraveldaily.com (laraveldaily.com)... 206.189.51.206\n",
            "Connecting to laraveldaily.com (laraveldaily.com)|206.189.51.206|:443... connected.\n",
            "HTTP request sent, awaiting response... 200 OK\n",
            "Length: 314570 (307K) [application/pdf]\n",
            "Saving to: ‘laravel.pdf’\n",
            "\n",
            "laravel.pdf         100%[===================>] 307.20K   774KB/s    in 0.4s    \n",
            "\n",
            "2024-06-17 21:46:01 (774 KB/s) - ‘laravel.pdf’ saved [314570/314570]\n",
            "\n"
          ]
        }
      ]
    },
    {
      "cell_type": "code",
      "source": [
        "from langchain.document_loaders import PyPDFLoader\n",
        "\n",
        "llm_loader = PyPDFLoader(\"laravel.pdf\")\n",
        "llm_loader = llm_loader.load()"
      ],
      "metadata": {
        "id": "1InGpY99KfvF"
      },
      "execution_count": 22,
      "outputs": []
    },
    {
      "cell_type": "code",
      "source": [
        "len(llm_loader)"
      ],
      "metadata": {
        "colab": {
          "base_uri": "https://localhost:8080/"
        },
        "id": "6iUYC1R8Kn8g",
        "outputId": "b9cbb45f-a0df-4d2b-dab4-661243816124"
      },
      "execution_count": 24,
      "outputs": [
        {
          "output_type": "execute_result",
          "data": {
            "text/plain": [
              "41"
            ]
          },
          "metadata": {},
          "execution_count": 24
        }
      ]
    },
    {
      "cell_type": "code",
      "source": [
        "llm_loader[0]"
      ],
      "metadata": {
        "colab": {
          "base_uri": "https://localhost:8080/"
        },
        "id": "RFZk_uBwKpQ7",
        "outputId": "d1bb704a-fb28-40b1-f8c2-2ddf8b3e0004"
      },
      "execution_count": 25,
      "outputs": [
        {
          "output_type": "execute_result",
          "data": {
            "text/plain": [
              "Document(page_content=' \\n \\n100 (and counting)\\n \\nLaravel Quick Tips\\n \\n \\n \\nPrepared by:\\n \\nPovilas Korop / LaravelDaily Team\\n \\nwww.laraveldaily.com\\n \\n \\npovilas@laraveldaily.com\\n \\n \\nLast updated:\\n \\n \\nApril 2020\\n \\n \\n \\n \\n \\n \\n \\nSupport our work by checking our Laravel adminpanel generator: \\n\\u200b\\nwww.quickadminpanel.com\\n ', metadata={'source': 'laravel.pdf', 'page': 0})"
            ]
          },
          "metadata": {},
          "execution_count": 25
        }
      ]
    },
    {
      "cell_type": "markdown",
      "source": [
        "# There are different ways to load our data and there are many methoods in documentation"
      ],
      "metadata": {
        "id": "iCZibyD-K1kS"
      }
    },
    {
      "cell_type": "markdown",
      "source": [
        "# Chunking"
      ],
      "metadata": {
        "id": "2BhTu3wpK-TP"
      }
    },
    {
      "cell_type": "code",
      "source": [
        "from langchain.document_loaders import WikipediaLoader\n",
        "\n",
        "query_1 = \"Nikola Tesla\"\n",
        "query_2 = \"Thomas Edison\"\n",
        "\n",
        "# ==============\n",
        "docs_1 = WikipediaLoader(query=query_1, load_max_docs=1,\n",
        "                         doc_content_chars_max=20_000).load()\n",
        "\n",
        "text_document_1 = docs_1[0].page_content\n",
        "\n",
        "# ==============\n",
        "docs_2 = WikipediaLoader(query=query_2, load_max_docs=1,\n",
        "                         doc_content_chars_max=20_000).load()\n",
        "\n",
        "text_document_2 = docs_2[0].page_content\n"
      ],
      "metadata": {
        "id": "aAPKzh9yK90U"
      },
      "execution_count": 26,
      "outputs": []
    },
    {
      "cell_type": "code",
      "source": [
        "documents = [ text_document_1, text_document_2]\n",
        "metadatas = [ {\"document\":query_1}, {\"document\":query_2} ]"
      ],
      "metadata": {
        "id": "9GKxMIJXKsBR"
      },
      "execution_count": 27,
      "outputs": []
    },
    {
      "cell_type": "markdown",
      "source": [
        "## Textsplitter"
      ],
      "metadata": {
        "id": "iJn3GiqaLRDd"
      }
    },
    {
      "cell_type": "code",
      "source": [
        "from langchain.text_splitter import CharacterTextSplitter\n",
        "\n",
        "# chunk_size >>>>  number of characters in each chunks\n",
        "# chunck overlap >>>>  number of charcter mutual between two chunks\n",
        "text_splitter = CharacterTextSplitter(chunk_size=100, chunk_overlap=10)\n",
        "texts = text_splitter.create_documents(documents ,metadatas =  metadatas)\n"
      ],
      "metadata": {
        "colab": {
          "base_uri": "https://localhost:8080/"
        },
        "id": "Hg6so-y0LQGR",
        "outputId": "b2472489-5cb5-4c0f-e612-da3977639ef9"
      },
      "execution_count": 29,
      "outputs": [
        {
          "output_type": "stream",
          "name": "stderr",
          "text": [
            "WARNING:langchain.text_splitter:Created a chunk of size 2699, which is longer than the specified 100\n",
            "WARNING:langchain.text_splitter:Created a chunk of size 1544, which is longer than the specified 100\n",
            "WARNING:langchain.text_splitter:Created a chunk of size 1893, which is longer than the specified 100\n",
            "WARNING:langchain.text_splitter:Created a chunk of size 1182, which is longer than the specified 100\n",
            "WARNING:langchain.text_splitter:Created a chunk of size 663, which is longer than the specified 100\n",
            "WARNING:langchain.text_splitter:Created a chunk of size 822, which is longer than the specified 100\n",
            "WARNING:langchain.text_splitter:Created a chunk of size 2818, which is longer than the specified 100\n",
            "WARNING:langchain.text_splitter:Created a chunk of size 1647, which is longer than the specified 100\n",
            "WARNING:langchain.text_splitter:Created a chunk of size 2425, which is longer than the specified 100\n",
            "WARNING:langchain.text_splitter:Created a chunk of size 990, which is longer than the specified 100\n",
            "WARNING:langchain.text_splitter:Created a chunk of size 2274, which is longer than the specified 100\n",
            "WARNING:langchain.text_splitter:Created a chunk of size 591, which is longer than the specified 100\n",
            "WARNING:langchain.text_splitter:Created a chunk of size 1405, which is longer than the specified 100\n",
            "WARNING:langchain.text_splitter:Created a chunk of size 2125, which is longer than the specified 100\n",
            "WARNING:langchain.text_splitter:Created a chunk of size 2528, which is longer than the specified 100\n",
            "WARNING:langchain.text_splitter:Created a chunk of size 3926, which is longer than the specified 100\n",
            "WARNING:langchain.text_splitter:Created a chunk of size 1282, which is longer than the specified 100\n",
            "WARNING:langchain.text_splitter:Created a chunk of size 1712, which is longer than the specified 100\n",
            "WARNING:langchain.text_splitter:Created a chunk of size 2471, which is longer than the specified 100\n",
            "WARNING:langchain.text_splitter:Created a chunk of size 3155, which is longer than the specified 100\n"
          ]
        }
      ]
    },
    {
      "cell_type": "code",
      "source": [
        "len(texts)"
      ],
      "metadata": {
        "colab": {
          "base_uri": "https://localhost:8080/"
        },
        "id": "wYLamz6KLpbC",
        "outputId": "d3921059-6a06-43ef-afc0-e8d9cb60ee97"
      },
      "execution_count": 30,
      "outputs": [
        {
          "output_type": "execute_result",
          "data": {
            "text/plain": [
              "31"
            ]
          },
          "metadata": {},
          "execution_count": 30
        }
      ]
    },
    {
      "cell_type": "code",
      "source": [
        "texts[0]"
      ],
      "metadata": {
        "colab": {
          "base_uri": "https://localhost:8080/"
        },
        "id": "B0xVn0zaL158",
        "outputId": "879f1c1f-5881-46f9-c427-84961b14500f"
      },
      "execution_count": 31,
      "outputs": [
        {
          "output_type": "execute_result",
          "data": {
            "text/plain": [
              "Document(page_content=\"Nikola Tesla (; Serbian Cyrillic: Никола Тесла, [nǐkola têsla]; 10 July [O.S. 28 June] 1856 – 7 January 1943) was a Serbian-American inventor, electrical engineer, mechanical engineer, and futurist. He is known for his contributions to the design of the modern alternating current (AC) electricity supply system.\\nBorn and raised in the Austrian Empire, Tesla first studied engineering and physics in the 1870s without receiving a degree. He then gained practical experience in the early 1880s working in telephony and at Continental Edison in the new electric power industry. In 1884 he immigrated to the United States, where he became a naturalized citizen. He worked for a short time at the Edison Machine Works in New York City before he struck out on his own. With the help of partners to finance and market his ideas, Tesla set up laboratories and companies in New York to develop a range of electrical and mechanical devices. His AC induction motor and related polyphase AC patents, licensed by Westinghouse Electric in 1888, earned him a considerable amount of money and became the cornerstone of the polyphase system which that company eventually marketed.\\nAttempting to develop inventions he could patent and market, Tesla conducted a range of experiments with mechanical oscillators/generators, electrical discharge tubes, and early X-ray imaging. He also built a wirelessly controlled boat, one of the first ever exhibited. Tesla became well known as an inventor and demonstrated his achievements to celebrities and wealthy patrons at his lab, and was noted for his showmanship at public lectures. Throughout the 1890s, Tesla pursued his ideas for wireless lighting and worldwide wireless electric power distribution in his high-voltage, high-frequency power experiments in New York and Colorado Springs. In 1893, he made pronouncements on the possibility of wireless communication with his devices. Tesla tried to put these ideas to practical use in his unfinished Wardenclyffe Tower project, an intercontinental wireless communication and power transmitter, but ran out of funding before he could complete it.\\nAfter Wardenclyffe, Tesla experimented with a series of inventions in the 1910s and 1920s with varying degrees of success. Having spent most of his money, Tesla lived in a series of New York hotels, leaving behind unpaid bills. He died in New York City in January 1943. Tesla's work fell into relative obscurity following his death, until 1960, when the General Conference on Weights and Measures named the International System of Units (SI) measurement of magnetic flux density the tesla in his honor. There has been a resurgence in popular interest in Tesla since the 1990s.\", metadata={'document': 'Nikola Tesla'})"
            ]
          },
          "metadata": {},
          "execution_count": 31
        }
      ]
    },
    {
      "cell_type": "markdown",
      "source": [
        "## NLTK"
      ],
      "metadata": {
        "id": "PSkTl27XL6VE"
      }
    },
    {
      "cell_type": "code",
      "source": [
        "# NLTK is better because working on chunking when the word or sentence done\n",
        "from langchain.text_splitter import NLTKTextSplitter\n",
        "\n",
        "text_splitter = NLTKTextSplitter(chunk_size=100, chunk_overlap=10)\n",
        "texts = text_splitter.create_documents(documents ,metadatas =  metadatas)"
      ],
      "metadata": {
        "colab": {
          "base_uri": "https://localhost:8080/"
        },
        "id": "QVD0LTsXL2yz",
        "outputId": "57d913ce-2f75-4ec7-dacb-af325058b75b"
      },
      "execution_count": 32,
      "outputs": [
        {
          "output_type": "stream",
          "name": "stderr",
          "text": [
            "WARNING:langchain.text_splitter:Created a chunk of size 120, which is longer than the specified 100\n",
            "WARNING:langchain.text_splitter:Created a chunk of size 113, which is longer than the specified 100\n",
            "WARNING:langchain.text_splitter:Created a chunk of size 124, which is longer than the specified 100\n",
            "WARNING:langchain.text_splitter:Created a chunk of size 137, which is longer than the specified 100\n",
            "WARNING:langchain.text_splitter:Created a chunk of size 104, which is longer than the specified 100\n",
            "WARNING:langchain.text_splitter:Created a chunk of size 167, which is longer than the specified 100\n",
            "WARNING:langchain.text_splitter:Created a chunk of size 232, which is longer than the specified 100\n",
            "WARNING:langchain.text_splitter:Created a chunk of size 192, which is longer than the specified 100\n",
            "WARNING:langchain.text_splitter:Created a chunk of size 173, which is longer than the specified 100\n",
            "WARNING:langchain.text_splitter:Created a chunk of size 206, which is longer than the specified 100\n",
            "WARNING:langchain.text_splitter:Created a chunk of size 211, which is longer than the specified 100\n",
            "WARNING:langchain.text_splitter:Created a chunk of size 122, which is longer than the specified 100\n",
            "WARNING:langchain.text_splitter:Created a chunk of size 104, which is longer than the specified 100\n",
            "WARNING:langchain.text_splitter:Created a chunk of size 232, which is longer than the specified 100\n",
            "WARNING:langchain.text_splitter:Created a chunk of size 175, which is longer than the specified 100\n",
            "WARNING:langchain.text_splitter:Created a chunk of size 107, which is longer than the specified 100\n",
            "WARNING:langchain.text_splitter:Created a chunk of size 212, which is longer than the specified 100\n",
            "WARNING:langchain.text_splitter:Created a chunk of size 159, which is longer than the specified 100\n",
            "WARNING:langchain.text_splitter:Created a chunk of size 204, which is longer than the specified 100\n",
            "WARNING:langchain.text_splitter:Created a chunk of size 161, which is longer than the specified 100\n",
            "WARNING:langchain.text_splitter:Created a chunk of size 102, which is longer than the specified 100\n",
            "WARNING:langchain.text_splitter:Created a chunk of size 122, which is longer than the specified 100\n",
            "WARNING:langchain.text_splitter:Created a chunk of size 117, which is longer than the specified 100\n",
            "WARNING:langchain.text_splitter:Created a chunk of size 136, which is longer than the specified 100\n",
            "WARNING:langchain.text_splitter:Created a chunk of size 181, which is longer than the specified 100\n",
            "WARNING:langchain.text_splitter:Created a chunk of size 141, which is longer than the specified 100\n",
            "WARNING:langchain.text_splitter:Created a chunk of size 140, which is longer than the specified 100\n",
            "WARNING:langchain.text_splitter:Created a chunk of size 103, which is longer than the specified 100\n",
            "WARNING:langchain.text_splitter:Created a chunk of size 200, which is longer than the specified 100\n",
            "WARNING:langchain.text_splitter:Created a chunk of size 230, which is longer than the specified 100\n",
            "WARNING:langchain.text_splitter:Created a chunk of size 102, which is longer than the specified 100\n",
            "WARNING:langchain.text_splitter:Created a chunk of size 196, which is longer than the specified 100\n",
            "WARNING:langchain.text_splitter:Created a chunk of size 124, which is longer than the specified 100\n",
            "WARNING:langchain.text_splitter:Created a chunk of size 124, which is longer than the specified 100\n",
            "WARNING:langchain.text_splitter:Created a chunk of size 168, which is longer than the specified 100\n",
            "WARNING:langchain.text_splitter:Created a chunk of size 128, which is longer than the specified 100\n",
            "WARNING:langchain.text_splitter:Created a chunk of size 174, which is longer than the specified 100\n",
            "WARNING:langchain.text_splitter:Created a chunk of size 160, which is longer than the specified 100\n",
            "WARNING:langchain.text_splitter:Created a chunk of size 127, which is longer than the specified 100\n",
            "WARNING:langchain.text_splitter:Created a chunk of size 198, which is longer than the specified 100\n",
            "WARNING:langchain.text_splitter:Created a chunk of size 115, which is longer than the specified 100\n",
            "WARNING:langchain.text_splitter:Created a chunk of size 146, which is longer than the specified 100\n",
            "WARNING:langchain.text_splitter:Created a chunk of size 183, which is longer than the specified 100\n",
            "WARNING:langchain.text_splitter:Created a chunk of size 167, which is longer than the specified 100\n",
            "WARNING:langchain.text_splitter:Created a chunk of size 126, which is longer than the specified 100\n",
            "WARNING:langchain.text_splitter:Created a chunk of size 315, which is longer than the specified 100\n",
            "WARNING:langchain.text_splitter:Created a chunk of size 316, which is longer than the specified 100\n",
            "WARNING:langchain.text_splitter:Created a chunk of size 107, which is longer than the specified 100\n",
            "WARNING:langchain.text_splitter:Created a chunk of size 241, which is longer than the specified 100\n",
            "WARNING:langchain.text_splitter:Created a chunk of size 129, which is longer than the specified 100\n",
            "WARNING:langchain.text_splitter:Created a chunk of size 211, which is longer than the specified 100\n",
            "WARNING:langchain.text_splitter:Created a chunk of size 204, which is longer than the specified 100\n",
            "WARNING:langchain.text_splitter:Created a chunk of size 132, which is longer than the specified 100\n",
            "WARNING:langchain.text_splitter:Created a chunk of size 203, which is longer than the specified 100\n",
            "WARNING:langchain.text_splitter:Created a chunk of size 154, which is longer than the specified 100\n",
            "WARNING:langchain.text_splitter:Created a chunk of size 203, which is longer than the specified 100\n",
            "WARNING:langchain.text_splitter:Created a chunk of size 217, which is longer than the specified 100\n",
            "WARNING:langchain.text_splitter:Created a chunk of size 186, which is longer than the specified 100\n",
            "WARNING:langchain.text_splitter:Created a chunk of size 139, which is longer than the specified 100\n",
            "WARNING:langchain.text_splitter:Created a chunk of size 216, which is longer than the specified 100\n",
            "WARNING:langchain.text_splitter:Created a chunk of size 206, which is longer than the specified 100\n",
            "WARNING:langchain.text_splitter:Created a chunk of size 136, which is longer than the specified 100\n",
            "WARNING:langchain.text_splitter:Created a chunk of size 167, which is longer than the specified 100\n",
            "WARNING:langchain.text_splitter:Created a chunk of size 121, which is longer than the specified 100\n",
            "WARNING:langchain.text_splitter:Created a chunk of size 184, which is longer than the specified 100\n",
            "WARNING:langchain.text_splitter:Created a chunk of size 151, which is longer than the specified 100\n",
            "WARNING:langchain.text_splitter:Created a chunk of size 109, which is longer than the specified 100\n",
            "WARNING:langchain.text_splitter:Created a chunk of size 161, which is longer than the specified 100\n",
            "WARNING:langchain.text_splitter:Created a chunk of size 191, which is longer than the specified 100\n",
            "WARNING:langchain.text_splitter:Created a chunk of size 174, which is longer than the specified 100\n",
            "WARNING:langchain.text_splitter:Created a chunk of size 233, which is longer than the specified 100\n",
            "WARNING:langchain.text_splitter:Created a chunk of size 153, which is longer than the specified 100\n",
            "WARNING:langchain.text_splitter:Created a chunk of size 225, which is longer than the specified 100\n",
            "WARNING:langchain.text_splitter:Created a chunk of size 289, which is longer than the specified 100\n",
            "WARNING:langchain.text_splitter:Created a chunk of size 230, which is longer than the specified 100\n",
            "WARNING:langchain.text_splitter:Created a chunk of size 252, which is longer than the specified 100\n",
            "WARNING:langchain.text_splitter:Created a chunk of size 280, which is longer than the specified 100\n",
            "WARNING:langchain.text_splitter:Created a chunk of size 238, which is longer than the specified 100\n",
            "WARNING:langchain.text_splitter:Created a chunk of size 200, which is longer than the specified 100\n",
            "WARNING:langchain.text_splitter:Created a chunk of size 125, which is longer than the specified 100\n",
            "WARNING:langchain.text_splitter:Created a chunk of size 128, which is longer than the specified 100\n",
            "WARNING:langchain.text_splitter:Created a chunk of size 246, which is longer than the specified 100\n",
            "WARNING:langchain.text_splitter:Created a chunk of size 204, which is longer than the specified 100\n",
            "WARNING:langchain.text_splitter:Created a chunk of size 175, which is longer than the specified 100\n",
            "WARNING:langchain.text_splitter:Created a chunk of size 242, which is longer than the specified 100\n",
            "WARNING:langchain.text_splitter:Created a chunk of size 162, which is longer than the specified 100\n",
            "WARNING:langchain.text_splitter:Created a chunk of size 149, which is longer than the specified 100\n",
            "WARNING:langchain.text_splitter:Created a chunk of size 203, which is longer than the specified 100\n",
            "WARNING:langchain.text_splitter:Created a chunk of size 174, which is longer than the specified 100\n",
            "WARNING:langchain.text_splitter:Created a chunk of size 298, which is longer than the specified 100\n",
            "WARNING:langchain.text_splitter:Created a chunk of size 187, which is longer than the specified 100\n",
            "WARNING:langchain.text_splitter:Created a chunk of size 227, which is longer than the specified 100\n",
            "WARNING:langchain.text_splitter:Created a chunk of size 171, which is longer than the specified 100\n",
            "WARNING:langchain.text_splitter:Created a chunk of size 173, which is longer than the specified 100\n",
            "WARNING:langchain.text_splitter:Created a chunk of size 184, which is longer than the specified 100\n",
            "WARNING:langchain.text_splitter:Created a chunk of size 234, which is longer than the specified 100\n",
            "WARNING:langchain.text_splitter:Created a chunk of size 128, which is longer than the specified 100\n",
            "WARNING:langchain.text_splitter:Created a chunk of size 186, which is longer than the specified 100\n",
            "WARNING:langchain.text_splitter:Created a chunk of size 165, which is longer than the specified 100\n",
            "WARNING:langchain.text_splitter:Created a chunk of size 102, which is longer than the specified 100\n",
            "WARNING:langchain.text_splitter:Created a chunk of size 131, which is longer than the specified 100\n",
            "WARNING:langchain.text_splitter:Created a chunk of size 244, which is longer than the specified 100\n",
            "WARNING:langchain.text_splitter:Created a chunk of size 143, which is longer than the specified 100\n",
            "WARNING:langchain.text_splitter:Created a chunk of size 139, which is longer than the specified 100\n",
            "WARNING:langchain.text_splitter:Created a chunk of size 182, which is longer than the specified 100\n",
            "WARNING:langchain.text_splitter:Created a chunk of size 101, which is longer than the specified 100\n",
            "WARNING:langchain.text_splitter:Created a chunk of size 120, which is longer than the specified 100\n",
            "WARNING:langchain.text_splitter:Created a chunk of size 108, which is longer than the specified 100\n",
            "WARNING:langchain.text_splitter:Created a chunk of size 136, which is longer than the specified 100\n",
            "WARNING:langchain.text_splitter:Created a chunk of size 143, which is longer than the specified 100\n",
            "WARNING:langchain.text_splitter:Created a chunk of size 123, which is longer than the specified 100\n",
            "WARNING:langchain.text_splitter:Created a chunk of size 200, which is longer than the specified 100\n",
            "WARNING:langchain.text_splitter:Created a chunk of size 156, which is longer than the specified 100\n",
            "WARNING:langchain.text_splitter:Created a chunk of size 120, which is longer than the specified 100\n",
            "WARNING:langchain.text_splitter:Created a chunk of size 138, which is longer than the specified 100\n",
            "WARNING:langchain.text_splitter:Created a chunk of size 114, which is longer than the specified 100\n",
            "WARNING:langchain.text_splitter:Created a chunk of size 179, which is longer than the specified 100\n",
            "WARNING:langchain.text_splitter:Created a chunk of size 193, which is longer than the specified 100\n",
            "WARNING:langchain.text_splitter:Created a chunk of size 107, which is longer than the specified 100\n",
            "WARNING:langchain.text_splitter:Created a chunk of size 179, which is longer than the specified 100\n",
            "WARNING:langchain.text_splitter:Created a chunk of size 153, which is longer than the specified 100\n",
            "WARNING:langchain.text_splitter:Created a chunk of size 131, which is longer than the specified 100\n",
            "WARNING:langchain.text_splitter:Created a chunk of size 102, which is longer than the specified 100\n",
            "WARNING:langchain.text_splitter:Created a chunk of size 107, which is longer than the specified 100\n",
            "WARNING:langchain.text_splitter:Created a chunk of size 281, which is longer than the specified 100\n",
            "WARNING:langchain.text_splitter:Created a chunk of size 105, which is longer than the specified 100\n",
            "WARNING:langchain.text_splitter:Created a chunk of size 110, which is longer than the specified 100\n",
            "WARNING:langchain.text_splitter:Created a chunk of size 171, which is longer than the specified 100\n",
            "WARNING:langchain.text_splitter:Created a chunk of size 191, which is longer than the specified 100\n",
            "WARNING:langchain.text_splitter:Created a chunk of size 168, which is longer than the specified 100\n",
            "WARNING:langchain.text_splitter:Created a chunk of size 207, which is longer than the specified 100\n",
            "WARNING:langchain.text_splitter:Created a chunk of size 151, which is longer than the specified 100\n",
            "WARNING:langchain.text_splitter:Created a chunk of size 123, which is longer than the specified 100\n",
            "WARNING:langchain.text_splitter:Created a chunk of size 148, which is longer than the specified 100\n",
            "WARNING:langchain.text_splitter:Created a chunk of size 146, which is longer than the specified 100\n",
            "WARNING:langchain.text_splitter:Created a chunk of size 125, which is longer than the specified 100\n",
            "WARNING:langchain.text_splitter:Created a chunk of size 148, which is longer than the specified 100\n",
            "WARNING:langchain.text_splitter:Created a chunk of size 114, which is longer than the specified 100\n",
            "WARNING:langchain.text_splitter:Created a chunk of size 369, which is longer than the specified 100\n",
            "WARNING:langchain.text_splitter:Created a chunk of size 179, which is longer than the specified 100\n",
            "WARNING:langchain.text_splitter:Created a chunk of size 116, which is longer than the specified 100\n",
            "WARNING:langchain.text_splitter:Created a chunk of size 504, which is longer than the specified 100\n",
            "WARNING:langchain.text_splitter:Created a chunk of size 176, which is longer than the specified 100\n",
            "WARNING:langchain.text_splitter:Created a chunk of size 137, which is longer than the specified 100\n",
            "WARNING:langchain.text_splitter:Created a chunk of size 234, which is longer than the specified 100\n",
            "WARNING:langchain.text_splitter:Created a chunk of size 131, which is longer than the specified 100\n",
            "WARNING:langchain.text_splitter:Created a chunk of size 207, which is longer than the specified 100\n",
            "WARNING:langchain.text_splitter:Created a chunk of size 158, which is longer than the specified 100\n",
            "WARNING:langchain.text_splitter:Created a chunk of size 114, which is longer than the specified 100\n",
            "WARNING:langchain.text_splitter:Created a chunk of size 244, which is longer than the specified 100\n",
            "WARNING:langchain.text_splitter:Created a chunk of size 307, which is longer than the specified 100\n",
            "WARNING:langchain.text_splitter:Created a chunk of size 232, which is longer than the specified 100\n",
            "WARNING:langchain.text_splitter:Created a chunk of size 144, which is longer than the specified 100\n",
            "WARNING:langchain.text_splitter:Created a chunk of size 156, which is longer than the specified 100\n",
            "WARNING:langchain.text_splitter:Created a chunk of size 162, which is longer than the specified 100\n",
            "WARNING:langchain.text_splitter:Created a chunk of size 311, which is longer than the specified 100\n",
            "WARNING:langchain.text_splitter:Created a chunk of size 182, which is longer than the specified 100\n",
            "WARNING:langchain.text_splitter:Created a chunk of size 109, which is longer than the specified 100\n",
            "WARNING:langchain.text_splitter:Created a chunk of size 159, which is longer than the specified 100\n",
            "WARNING:langchain.text_splitter:Created a chunk of size 125, which is longer than the specified 100\n",
            "WARNING:langchain.text_splitter:Created a chunk of size 190, which is longer than the specified 100\n",
            "WARNING:langchain.text_splitter:Created a chunk of size 177, which is longer than the specified 100\n",
            "WARNING:langchain.text_splitter:Created a chunk of size 197, which is longer than the specified 100\n",
            "WARNING:langchain.text_splitter:Created a chunk of size 178, which is longer than the specified 100\n",
            "WARNING:langchain.text_splitter:Created a chunk of size 144, which is longer than the specified 100\n",
            "WARNING:langchain.text_splitter:Created a chunk of size 129, which is longer than the specified 100\n",
            "WARNING:langchain.text_splitter:Created a chunk of size 234, which is longer than the specified 100\n",
            "WARNING:langchain.text_splitter:Created a chunk of size 147, which is longer than the specified 100\n",
            "WARNING:langchain.text_splitter:Created a chunk of size 159, which is longer than the specified 100\n",
            "WARNING:langchain.text_splitter:Created a chunk of size 204, which is longer than the specified 100\n",
            "WARNING:langchain.text_splitter:Created a chunk of size 163, which is longer than the specified 100\n",
            "WARNING:langchain.text_splitter:Created a chunk of size 169, which is longer than the specified 100\n",
            "WARNING:langchain.text_splitter:Created a chunk of size 179, which is longer than the specified 100\n",
            "WARNING:langchain.text_splitter:Created a chunk of size 110, which is longer than the specified 100\n",
            "WARNING:langchain.text_splitter:Created a chunk of size 111, which is longer than the specified 100\n",
            "WARNING:langchain.text_splitter:Created a chunk of size 109, which is longer than the specified 100\n",
            "WARNING:langchain.text_splitter:Created a chunk of size 133, which is longer than the specified 100\n",
            "WARNING:langchain.text_splitter:Created a chunk of size 156, which is longer than the specified 100\n",
            "WARNING:langchain.text_splitter:Created a chunk of size 179, which is longer than the specified 100\n",
            "WARNING:langchain.text_splitter:Created a chunk of size 198, which is longer than the specified 100\n",
            "WARNING:langchain.text_splitter:Created a chunk of size 190, which is longer than the specified 100\n",
            "WARNING:langchain.text_splitter:Created a chunk of size 139, which is longer than the specified 100\n",
            "WARNING:langchain.text_splitter:Created a chunk of size 137, which is longer than the specified 100\n",
            "WARNING:langchain.text_splitter:Created a chunk of size 249, which is longer than the specified 100\n",
            "WARNING:langchain.text_splitter:Created a chunk of size 106, which is longer than the specified 100\n",
            "WARNING:langchain.text_splitter:Created a chunk of size 153, which is longer than the specified 100\n",
            "WARNING:langchain.text_splitter:Created a chunk of size 103, which is longer than the specified 100\n",
            "WARNING:langchain.text_splitter:Created a chunk of size 157, which is longer than the specified 100\n",
            "WARNING:langchain.text_splitter:Created a chunk of size 175, which is longer than the specified 100\n",
            "WARNING:langchain.text_splitter:Created a chunk of size 202, which is longer than the specified 100\n",
            "WARNING:langchain.text_splitter:Created a chunk of size 138, which is longer than the specified 100\n",
            "WARNING:langchain.text_splitter:Created a chunk of size 328, which is longer than the specified 100\n",
            "WARNING:langchain.text_splitter:Created a chunk of size 165, which is longer than the specified 100\n",
            "WARNING:langchain.text_splitter:Created a chunk of size 220, which is longer than the specified 100\n"
          ]
        }
      ]
    },
    {
      "cell_type": "code",
      "source": [
        "len(texts)"
      ],
      "metadata": {
        "colab": {
          "base_uri": "https://localhost:8080/"
        },
        "id": "CUcP1LJEMPe4",
        "outputId": "3e1f5ed1-b6e3-432c-ea45-d06c7bccdd79"
      },
      "execution_count": 33,
      "outputs": [
        {
          "output_type": "execute_result",
          "data": {
            "text/plain": [
              "276"
            ]
          },
          "metadata": {},
          "execution_count": 33
        }
      ]
    },
    {
      "cell_type": "code",
      "source": [
        "texts[0]"
      ],
      "metadata": {
        "colab": {
          "base_uri": "https://localhost:8080/"
        },
        "id": "5X8fv7UVMXjX",
        "outputId": "b645aa6d-bc82-4828-edb2-eb0c4c874225"
      },
      "execution_count": 34,
      "outputs": [
        {
          "output_type": "execute_result",
          "data": {
            "text/plain": [
              "Document(page_content='Nikola Tesla (; Serbian Cyrillic: Никола Тесла, [nǐkola têsla]; 10 July [O.S.', metadata={'document': 'Nikola Tesla'})"
            ]
          },
          "metadata": {},
          "execution_count": 34
        }
      ]
    },
    {
      "cell_type": "markdown",
      "source": [
        "## TikToken"
      ],
      "metadata": {
        "id": "U31i8Og4McE7"
      }
    },
    {
      "cell_type": "code",
      "source": [
        "from langchain.text_splitter import TokenTextSplitter\n",
        "\n",
        "text_splitter =  TokenTextSplitter(chunk_size = 100,chunk_overlap = 10 )\n",
        "\n",
        "texts =  text_splitter.create_documents(documents,metadatas = metadatas)"
      ],
      "metadata": {
        "id": "q6zVpjRNMZDO"
      },
      "execution_count": 38,
      "outputs": []
    },
    {
      "cell_type": "code",
      "source": [
        "len(texts)"
      ],
      "metadata": {
        "colab": {
          "base_uri": "https://localhost:8080/"
        },
        "id": "QAQ5_SfhM6QN",
        "outputId": "239fd5e4-fce6-40f2-c8a8-3b28ea701e92"
      },
      "execution_count": 39,
      "outputs": [
        {
          "output_type": "execute_result",
          "data": {
            "text/plain": [
              "92"
            ]
          },
          "metadata": {},
          "execution_count": 39
        }
      ]
    },
    {
      "cell_type": "code",
      "source": [
        "texts[0]"
      ],
      "metadata": {
        "colab": {
          "base_uri": "https://localhost:8080/"
        },
        "id": "0Mv_ECE_M8x6",
        "outputId": "da491bda-9b95-4e60-81a7-e086aa876e67"
      },
      "execution_count": 40,
      "outputs": [
        {
          "output_type": "execute_result",
          "data": {
            "text/plain": [
              "Document(page_content='Nikola Tesla (; Serbian Cyrillic: Никола Тесла, [nǐkola têsla]; 10 July [O.S. 28 June] 1856 – 7 January 1943) was a Serbian-American inventor, electrical engineer, mechanical engineer, and futurist. He is known for his contributions to the design of the modern alternating current (AC) electricity supply system.\\nBorn and raised in the Austrian Empire,', metadata={'document': 'Nikola Tesla'})"
            ]
          },
          "metadata": {},
          "execution_count": 40
        }
      ]
    },
    {
      "cell_type": "markdown",
      "source": [
        "## Transformers Token"
      ],
      "metadata": {
        "id": "WexrCzcDNG7q"
      }
    },
    {
      "cell_type": "code",
      "source": [
        "from transformers import AutoTokenizer\n",
        "from langchain.text_splitter import CharacterTextSplitter\n",
        "tokenizer = AutoTokenizer.from_pretrained(\"gpt2\")\n",
        "\n",
        "text_splitter = CharacterTextSplitter.from_huggingface_tokenizer(tokenizer,\n",
        "    chunk_size=100,\n",
        "    chunk_overlap=20,\n",
        ")\n"
      ],
      "metadata": {
        "id": "4C7z3J6bNFrJ"
      },
      "execution_count": 42,
      "outputs": []
    },
    {
      "cell_type": "code",
      "source": [
        "texts =  text_splitter.create_documents(documents,metadatas = metadatas)"
      ],
      "metadata": {
        "colab": {
          "base_uri": "https://localhost:8080/"
        },
        "id": "b2oxrd5rNlYf",
        "outputId": "7dad3046-044a-4c8a-86e2-28075f7438f3"
      },
      "execution_count": 43,
      "outputs": [
        {
          "output_type": "stream",
          "name": "stderr",
          "text": [
            "WARNING:langchain.text_splitter:Created a chunk of size 551, which is longer than the specified 100\n",
            "WARNING:langchain.text_splitter:Created a chunk of size 348, which is longer than the specified 100\n",
            "WARNING:langchain.text_splitter:Created a chunk of size 387, which is longer than the specified 100\n",
            "WARNING:langchain.text_splitter:Created a chunk of size 262, which is longer than the specified 100\n",
            "WARNING:langchain.text_splitter:Created a chunk of size 126, which is longer than the specified 100\n",
            "WARNING:langchain.text_splitter:Created a chunk of size 160, which is longer than the specified 100\n",
            "WARNING:langchain.text_splitter:Created a chunk of size 580, which is longer than the specified 100\n",
            "WARNING:langchain.text_splitter:Created a chunk of size 319, which is longer than the specified 100\n",
            "WARNING:langchain.text_splitter:Created a chunk of size 462, which is longer than the specified 100\n",
            "WARNING:langchain.text_splitter:Created a chunk of size 208, which is longer than the specified 100\n",
            "WARNING:langchain.text_splitter:Created a chunk of size 445, which is longer than the specified 100\n",
            "WARNING:langchain.text_splitter:Created a chunk of size 130, which is longer than the specified 100\n",
            "WARNING:langchain.text_splitter:Created a chunk of size 273, which is longer than the specified 100\n",
            "WARNING:langchain.text_splitter:Created a chunk of size 462, which is longer than the specified 100\n",
            "WARNING:langchain.text_splitter:Created a chunk of size 535, which is longer than the specified 100\n",
            "WARNING:langchain.text_splitter:Created a chunk of size 803, which is longer than the specified 100\n",
            "WARNING:langchain.text_splitter:Created a chunk of size 261, which is longer than the specified 100\n",
            "WARNING:langchain.text_splitter:Created a chunk of size 331, which is longer than the specified 100\n",
            "WARNING:langchain.text_splitter:Created a chunk of size 498, which is longer than the specified 100\n",
            "WARNING:langchain.text_splitter:Created a chunk of size 651, which is longer than the specified 100\n"
          ]
        }
      ]
    },
    {
      "cell_type": "code",
      "source": [
        "len(texts)"
      ],
      "metadata": {
        "colab": {
          "base_uri": "https://localhost:8080/"
        },
        "id": "FR4Gymn3NrlZ",
        "outputId": "eb8adc22-7b0f-4e74-f223-5031b38de574"
      },
      "execution_count": 44,
      "outputs": [
        {
          "output_type": "execute_result",
          "data": {
            "text/plain": [
              "30"
            ]
          },
          "metadata": {},
          "execution_count": 44
        }
      ]
    },
    {
      "cell_type": "code",
      "source": [
        "texts[0]"
      ],
      "metadata": {
        "colab": {
          "base_uri": "https://localhost:8080/"
        },
        "id": "hXV_tjx4NsZ8",
        "outputId": "facbdfe4-bfa3-498a-c435-3e8ca2cb876e"
      },
      "execution_count": 45,
      "outputs": [
        {
          "output_type": "execute_result",
          "data": {
            "text/plain": [
              "Document(page_content=\"Nikola Tesla (; Serbian Cyrillic: Никола Тесла, [nǐkola têsla]; 10 July [O.S. 28 June] 1856 – 7 January 1943) was a Serbian-American inventor, electrical engineer, mechanical engineer, and futurist. He is known for his contributions to the design of the modern alternating current (AC) electricity supply system.\\nBorn and raised in the Austrian Empire, Tesla first studied engineering and physics in the 1870s without receiving a degree. He then gained practical experience in the early 1880s working in telephony and at Continental Edison in the new electric power industry. In 1884 he immigrated to the United States, where he became a naturalized citizen. He worked for a short time at the Edison Machine Works in New York City before he struck out on his own. With the help of partners to finance and market his ideas, Tesla set up laboratories and companies in New York to develop a range of electrical and mechanical devices. His AC induction motor and related polyphase AC patents, licensed by Westinghouse Electric in 1888, earned him a considerable amount of money and became the cornerstone of the polyphase system which that company eventually marketed.\\nAttempting to develop inventions he could patent and market, Tesla conducted a range of experiments with mechanical oscillators/generators, electrical discharge tubes, and early X-ray imaging. He also built a wirelessly controlled boat, one of the first ever exhibited. Tesla became well known as an inventor and demonstrated his achievements to celebrities and wealthy patrons at his lab, and was noted for his showmanship at public lectures. Throughout the 1890s, Tesla pursued his ideas for wireless lighting and worldwide wireless electric power distribution in his high-voltage, high-frequency power experiments in New York and Colorado Springs. In 1893, he made pronouncements on the possibility of wireless communication with his devices. Tesla tried to put these ideas to practical use in his unfinished Wardenclyffe Tower project, an intercontinental wireless communication and power transmitter, but ran out of funding before he could complete it.\\nAfter Wardenclyffe, Tesla experimented with a series of inventions in the 1910s and 1920s with varying degrees of success. Having spent most of his money, Tesla lived in a series of New York hotels, leaving behind unpaid bills. He died in New York City in January 1943. Tesla's work fell into relative obscurity following his death, until 1960, when the General Conference on Weights and Measures named the International System of Units (SI) measurement of magnetic flux density the tesla in his honor. There has been a resurgence in popular interest in Tesla since the 1990s.\", metadata={'document': 'Nikola Tesla'})"
            ]
          },
          "metadata": {},
          "execution_count": 45
        }
      ]
    },
    {
      "cell_type": "code",
      "source": [],
      "metadata": {
        "id": "17fXIRRrNtyF"
      },
      "execution_count": null,
      "outputs": []
    }
  ]
}